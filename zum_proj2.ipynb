{
 "cells": [
  {
   "cell_type": "markdown",
   "metadata": {},
   "source": [
    "# <center>ZUM</center>\n",
    "# <center> Projekt -- dokumentacja końcowa </center>\n",
    "\n",
    "## <center> Jan Budziński -- 310609 </center>\n",
    "## <center> Jarosław Nachyła -- nr_indeksu </center>"
   ]
  },
  {
   "cell_type": "markdown",
   "metadata": {},
   "source": [
    "## 2. Implementacja\n",
    "\n",
    "### 2.1. Nienadzorowana detekcja anomalii\n",
    "\n",
    "W ramach projektu zaimplementowano klasę <i>AnomalyDetector</i>, będącą opakowaniem na algorytmy grupowania KMeans, DBSCAN oraz AgglomerativeClustering, jak również na miary niepodobieństwa euklidesową, Mahalanobisa i Manhattan. Celem tejże klasy jest stworzenie łatwego w obsłudze środowiska testowego, które w miarę możliwości (niektóre algorytmy różnią się wejściami) będzie jednorodne w użyciu dla każdego z porównywanych algorytmów i miar.\n",
    "Klasa ta zawiera następujące metody:\n",
    "\n",
    "- fit -- dopasowuje model do danych wejściowych,\n",
    "- fit_predict -- wykonuje trening modelu i jednocześnie przewidująca klasy i określająca dystanse od centrów klastrów dla danych wejściowych,\n",
    "- transform_distances -- określa, czy dane wejściowe są anomaliami na podstawie dystansu otrzymanego z wybranej miary niepodobieństwa,\n",
    "- transform_labels -- dla liczby klastrów większych niż 2, metoda ta zmienia przypisanie do wszystkich klastrów poza najliczniejszym w anomalię.\n",
    "\n",
    "\n",
    "Dzięki tym metodom użytkownik jest w stanie w łatwy sposób testować różne modele i miary niepodobieństwa, zmieniając wyłącznie jeden parametr w kodzie.\n",
    "\n",
    "Kod implementujący tę klasę jest w pliku anomaly_detector.py.\n",
    "\n",
    "Ponadto utworzono klasę <i>AnomalyDetectorEvaluator</i> zawierającą metody obliczające metryki potrzebne do ewaluacji wytrenowanych modeli.\n",
    "\n",
    "Testowane metryki to:\n",
    "\n",
    "- dokładność (accuracy)\n",
    "- precyzja (precision)\n",
    "- czułość (recall)\n",
    "- pole pod wykresem PRC\n",
    "\n",
    "Wszystkie te metryki zostały dokładniej opisane w dokumentacji wstępnej. Jednakże, z uwagi na fakt, iż dane z założenia są wysoce niezbalansowane (jako że są to dane anomalii, to wejścia o pozytywnej klasie stanowią poniżej 1% wszystkich) uznano, że zwykła dokładność może niewiele powiedzieć, jako że przypisanie wszystkim danym klasy negatywnej pozwala osiągnąć powyżej 99% poprawnych predykcji. W tym celu dodano metrykę dokładności wykrywania outlierów, która testuje, ile spośród prawdziwych outlierów zostało poprawnie zidentyfikowanych. \n",
    "\n",
    "Kod z klasą AnomalyDetectorEvaluator znajduje się w pliku metrics.py.\n",
    "\n",
    "### 2.2. Jednoklasowy klasyfikator"
   ]
  },
  {
   "cell_type": "markdown",
   "metadata": {},
   "source": [
    "## 3. Eksperymenty\n",
    "\n"
   ]
  },
  {
   "cell_type": "markdown",
   "source": [
    "### 3.1 Porównanie modeli grupowaniaz modelami klasyfikacji jednoklasowej.\n",
    "\n",
    "Nienadzorowana detekcja anomalii na podstawie niepodobieństwa do grup wyznaczanych za pomocą algorytmów grupowania została przeprowadzona w ramach eksperymentów porównujących algorytmy klasyfikacji jednoklasowej, takie jak One-Class SVM i Isolation Forest, z algorytmami grupowania. Eksperymenty miały na celu zbadanie wydajności tych modeli w kontekście detekcji anomalii.\n",
    "\n",
    "W ramach pierwszego eksperymentu wykonano testy porównawcze iloczynu kartezjańskiego 3 wybranych modeli, 3 miar niepodobieństwa i 2 zbiorów danych, co dało łącznie 18 pojedynczych testów.\n",
    "\n",
    "Podczas przeprowadzania eksperymentu wystąpiły pewne problemy. Mianowicie, algorytm Agglomerative Clustering cechuje się wysokimi złożonościami: złożoność obliczeniowa to \\(O(n^2)\\), a czasowa to \\(O(n^3)\\). Z tego względu trening na całych zbiorach danych, a w szczególności na zbiorze HTTP, był niemożliwy. W związku z tym zastosowano subsampling.\n",
    "\n",
    "\n",
    "### Szczegóły Subsampling i Eksperymentów\n",
    "\n",
    "W przeprowadzonych eksperymentach dotyczących nienadzorowanej detekcji anomalii przy użyciu algorytmów grupowania, zastosowano różne techniki subsamplingu w celu obsługi dużych zbiorów danych oraz złożoności obliczeniowej niektórych algorytmów. Poniżej znajduje się szczegółowe wyjaśnienie strategii subsamplingu użytych dla różnych eksperymentów oraz wyjaśnienie, dlaczego niektóre eksperymenty nie zostały wykonane.\n",
    "\n",
    "#### Szczegóły Subsampling\n",
    "\n",
    "| Zbiór Danych      | Algorytm                    | Subsampling           |\n",
    "|-------------------|-----------------------------|-----------------------|\n",
    "| HTTP              | Isolation Forest            | 40% klasy większościowej |\n",
    "| HTTP              | One-Class SVM               | 40% klasy większościowej |\n",
    "| HTTP              | DBSCAN                      | 10% klasy większościowej |\n",
    "| HTTP              | Agglomerative Clustering    | 5% klasy większościowej  |\n",
    "| HTTP              | KMeans                      | Brak subsamplingu      |\n",
    "| Shuttle           | Isolation Forest            | 40% klasy większościowej |\n",
    "| Shuttle           | One-Class SVM               | 40% klasy większościowej |\n",
    "| Shuttle           | DBSCAN (Mahalanobis)        | 20% klasy większościowej |\n",
    "| Shuttle           | Agglomerative Clustering    | Odpowiedni subsampling w razie potrzeby |\n",
    "| Shuttle           | KMeans                      | Brak subsamplingu      |\n",
    "\n",
    "\n",
    "\n",
    "DBSCAN z metryką Mahalanobis nie zostały wykonane ze względu na bardzo długie czasy nauki nawet dla małych próbek danych(mozliwy problem w implemntacji w bibliotece).\n",
    "\n"
   ],
   "metadata": {
    "collapsed": false
   }
  },
  {
   "cell_type": "code",
   "execution_count": 30,
   "outputs": [
    {
     "data": {
      "text/plain": "             model       metric  accuracy  positive_recall  negative_recall  \\\n0  isolationforest          N/A  0.907282         1.000000         0.876376   \n1           dbscan    euclidean  0.993616         1.000000         0.993366   \n2           dbscan    manhattan  0.993616         1.000000         0.993366   \n3              svm          N/A  0.623021         1.000000         0.497362   \n4           kmeans    euclidean  0.565949         0.995477         0.564269   \n5           kmeans    cityblock  0.999942         0.996382         0.999956   \n6           kmeans  mahalanobis  0.990934         0.014925         0.994751   \n7    agglomerative    euclidean  0.994651         0.997286         0.994445   \n8    agglomerative    manhattan  0.994651         0.997286         0.994445   \n9    agglomerative  mahalanobis  0.994651         0.997286         0.994445   \n\n   positive_precision  negative_precision        f1  auc_score  \n0            0.729462            1.000000  0.843571        NaN  \n1            0.854988            1.000000  0.921826   0.035111  \n2            0.854988            1.000000  0.921826   0.035111  \n3            0.398738            1.000000  0.570139        NaN  \n4            0.008857            0.999969  0.017557   0.538962  \n5            0.988779            0.999986  0.992566   0.015064  \n6            0.011000            0.996142  0.012666   0.538960  \n7            0.933531            0.999787  0.964356   0.061553  \n8            0.933531            0.999787  0.964356   0.063167  \n9            0.933531            0.999787  0.964356   0.062629  ",
      "text/html": "<div>\n<style scoped>\n    .dataframe tbody tr th:only-of-type {\n        vertical-align: middle;\n    }\n\n    .dataframe tbody tr th {\n        vertical-align: top;\n    }\n\n    .dataframe thead th {\n        text-align: right;\n    }\n</style>\n<table border=\"1\" class=\"dataframe\">\n  <thead>\n    <tr style=\"text-align: right;\">\n      <th></th>\n      <th>model</th>\n      <th>metric</th>\n      <th>accuracy</th>\n      <th>positive_recall</th>\n      <th>negative_recall</th>\n      <th>positive_precision</th>\n      <th>negative_precision</th>\n      <th>f1</th>\n      <th>auc_score</th>\n    </tr>\n  </thead>\n  <tbody>\n    <tr>\n      <th>0</th>\n      <td>isolationforest</td>\n      <td>N/A</td>\n      <td>0.907282</td>\n      <td>1.000000</td>\n      <td>0.876376</td>\n      <td>0.729462</td>\n      <td>1.000000</td>\n      <td>0.843571</td>\n      <td>NaN</td>\n    </tr>\n    <tr>\n      <th>1</th>\n      <td>dbscan</td>\n      <td>euclidean</td>\n      <td>0.993616</td>\n      <td>1.000000</td>\n      <td>0.993366</td>\n      <td>0.854988</td>\n      <td>1.000000</td>\n      <td>0.921826</td>\n      <td>0.035111</td>\n    </tr>\n    <tr>\n      <th>2</th>\n      <td>dbscan</td>\n      <td>manhattan</td>\n      <td>0.993616</td>\n      <td>1.000000</td>\n      <td>0.993366</td>\n      <td>0.854988</td>\n      <td>1.000000</td>\n      <td>0.921826</td>\n      <td>0.035111</td>\n    </tr>\n    <tr>\n      <th>3</th>\n      <td>svm</td>\n      <td>N/A</td>\n      <td>0.623021</td>\n      <td>1.000000</td>\n      <td>0.497362</td>\n      <td>0.398738</td>\n      <td>1.000000</td>\n      <td>0.570139</td>\n      <td>NaN</td>\n    </tr>\n    <tr>\n      <th>4</th>\n      <td>kmeans</td>\n      <td>euclidean</td>\n      <td>0.565949</td>\n      <td>0.995477</td>\n      <td>0.564269</td>\n      <td>0.008857</td>\n      <td>0.999969</td>\n      <td>0.017557</td>\n      <td>0.538962</td>\n    </tr>\n    <tr>\n      <th>5</th>\n      <td>kmeans</td>\n      <td>cityblock</td>\n      <td>0.999942</td>\n      <td>0.996382</td>\n      <td>0.999956</td>\n      <td>0.988779</td>\n      <td>0.999986</td>\n      <td>0.992566</td>\n      <td>0.015064</td>\n    </tr>\n    <tr>\n      <th>6</th>\n      <td>kmeans</td>\n      <td>mahalanobis</td>\n      <td>0.990934</td>\n      <td>0.014925</td>\n      <td>0.994751</td>\n      <td>0.011000</td>\n      <td>0.996142</td>\n      <td>0.012666</td>\n      <td>0.538960</td>\n    </tr>\n    <tr>\n      <th>7</th>\n      <td>agglomerative</td>\n      <td>euclidean</td>\n      <td>0.994651</td>\n      <td>0.997286</td>\n      <td>0.994445</td>\n      <td>0.933531</td>\n      <td>0.999787</td>\n      <td>0.964356</td>\n      <td>0.061553</td>\n    </tr>\n    <tr>\n      <th>8</th>\n      <td>agglomerative</td>\n      <td>manhattan</td>\n      <td>0.994651</td>\n      <td>0.997286</td>\n      <td>0.994445</td>\n      <td>0.933531</td>\n      <td>0.999787</td>\n      <td>0.964356</td>\n      <td>0.063167</td>\n    </tr>\n    <tr>\n      <th>9</th>\n      <td>agglomerative</td>\n      <td>mahalanobis</td>\n      <td>0.994651</td>\n      <td>0.997286</td>\n      <td>0.994445</td>\n      <td>0.933531</td>\n      <td>0.999787</td>\n      <td>0.964356</td>\n      <td>0.062629</td>\n    </tr>\n  </tbody>\n</table>\n</div>"
     },
     "execution_count": 30,
     "metadata": {},
     "output_type": "execute_result"
    }
   ],
   "source": [
    "import json\n",
    "import os\n",
    "\n",
    "import pandas as pd\n",
    "\n",
    "pd.set_option('display.max_rows', 100)\n",
    "\n",
    "def load_metrics_from_json(file_path):\n",
    "    with open(file_path, 'r') as file:\n",
    "        data = json.load(file)\n",
    "    return data\n",
    "def process_files(directory, pdataset = \"http\", models_excluded = []):\n",
    "    results = []\n",
    "\n",
    "    # Przeglądanie wszystkich plików w katalogu\n",
    "    for file_name in os.listdir(directory):\n",
    "        if file_name.endswith(\".json\"):\n",
    "            # Parsing nazwy pliku\n",
    "            parts = file_name.split('_')\n",
    "            model = parts[0]\n",
    "            dataset = parts[1]\n",
    "\n",
    "            if dataset != pdataset or model in models_excluded:\n",
    "                continue\n",
    "\n",
    "\n",
    "\n",
    "            file_path = os.path.join(directory, file_name)\n",
    "            metrics_data = load_metrics_from_json(file_path)\n",
    "\n",
    "\n",
    "\n",
    "            if isinstance(metrics_data, dict):  # Dla isolation forest i svm\n",
    "                metric = \"N/A\"\n",
    "                avg_metrics = metrics_data['avg_metrics']\n",
    "                result = {\n",
    "                    'model': model,\n",
    "                    'metric': metric,\n",
    "                    'accuracy': avg_metrics.get('accuracy'),\n",
    "                    'positive_recall': avg_metrics.get('positive_recall'),\n",
    "                    'negative_recall': avg_metrics.get('negative_recall'),\n",
    "                    'positive_precision': avg_metrics.get('positive_precision'),\n",
    "                    'negative_precision': avg_metrics.get('negative_precision'),\n",
    "                    'f1': avg_metrics.get('f1'),\n",
    "                   \n",
    "                    'auc_score': avg_metrics.get('auc_pr')\n",
    "                }\n",
    "                results.append(result)\n",
    "            else:  # Dla pozostałych modeli\n",
    "                for entry in metrics_data:\n",
    "                    metric = entry['metric']\n",
    "                    avg_metrics = entry['avg_metrics']\n",
    "                    result = {\n",
    "                    'model': model,\n",
    "                    'metric': metric,\n",
    "                    'accuracy': avg_metrics.get('accuracy'),\n",
    "                    'positive_recall': avg_metrics.get('positive_recall'),\n",
    "                    'negative_recall': avg_metrics.get('negative_recall'),\n",
    "                    'positive_precision': avg_metrics.get('positive_precision'),\n",
    "                    'negative_precision': avg_metrics.get('negative_precision'),\n",
    "                    'f1': avg_metrics.get('f1'),\n",
    "                    'auc_score': avg_metrics.get('auc_pr')\n",
    "                    }\n",
    "                    results.append(result)\n",
    "\n",
    "    # Tworzenie DataFrame z wynikami\n",
    "    df = pd.DataFrame(results)\n",
    "    return df\n",
    "pd.set_option('display.max_rows', 50)\n",
    "process_files('./results/', models_excluded=['metacost'])"
   ],
   "metadata": {
    "collapsed": false,
    "ExecuteTime": {
     "end_time": "2024-06-16T00:55:10.181738Z",
     "start_time": "2024-06-16T00:55:10.167698Z"
    }
   }
  },
  {
   "cell_type": "code",
   "execution_count": 31,
   "outputs": [
    {
     "data": {
      "text/plain": "             model       metric  accuracy  positive_recall  negative_recall  \\\n0  isolationforest          N/A  0.907282         1.000000         0.876376   \n1           dbscan    euclidean  0.993616         1.000000         0.993366   \n2           dbscan    manhattan  0.993616         1.000000         0.993366   \n3              svm          N/A  0.623021         1.000000         0.497362   \n4           kmeans    euclidean  0.565949         0.995477         0.564269   \n5           kmeans    cityblock  0.999942         0.996382         0.999956   \n6           kmeans  mahalanobis  0.990934         0.014925         0.994751   \n7    agglomerative    euclidean  0.994651         0.997286         0.994445   \n8    agglomerative    manhattan  0.994651         0.997286         0.994445   \n9    agglomerative  mahalanobis  0.994651         0.997286         0.994445   \n\n   positive_precision  negative_precision        f1  auc_score  \n0            0.729462            1.000000  0.843571        NaN  \n1            0.854988            1.000000  0.921826   0.035111  \n2            0.854988            1.000000  0.921826   0.035111  \n3            0.398738            1.000000  0.570139        NaN  \n4            0.008857            0.999969  0.017557   0.538962  \n5            0.988779            0.999986  0.992566   0.015064  \n6            0.011000            0.996142  0.012666   0.538960  \n7            0.933531            0.999787  0.964356   0.061553  \n8            0.933531            0.999787  0.964356   0.063167  \n9            0.933531            0.999787  0.964356   0.062629  ",
      "text/html": "<div>\n<style scoped>\n    .dataframe tbody tr th:only-of-type {\n        vertical-align: middle;\n    }\n\n    .dataframe tbody tr th {\n        vertical-align: top;\n    }\n\n    .dataframe thead th {\n        text-align: right;\n    }\n</style>\n<table border=\"1\" class=\"dataframe\">\n  <thead>\n    <tr style=\"text-align: right;\">\n      <th></th>\n      <th>model</th>\n      <th>metric</th>\n      <th>accuracy</th>\n      <th>positive_recall</th>\n      <th>negative_recall</th>\n      <th>positive_precision</th>\n      <th>negative_precision</th>\n      <th>f1</th>\n      <th>auc_score</th>\n    </tr>\n  </thead>\n  <tbody>\n    <tr>\n      <th>0</th>\n      <td>isolationforest</td>\n      <td>N/A</td>\n      <td>0.907282</td>\n      <td>1.000000</td>\n      <td>0.876376</td>\n      <td>0.729462</td>\n      <td>1.000000</td>\n      <td>0.843571</td>\n      <td>NaN</td>\n    </tr>\n    <tr>\n      <th>1</th>\n      <td>dbscan</td>\n      <td>euclidean</td>\n      <td>0.993616</td>\n      <td>1.000000</td>\n      <td>0.993366</td>\n      <td>0.854988</td>\n      <td>1.000000</td>\n      <td>0.921826</td>\n      <td>0.035111</td>\n    </tr>\n    <tr>\n      <th>2</th>\n      <td>dbscan</td>\n      <td>manhattan</td>\n      <td>0.993616</td>\n      <td>1.000000</td>\n      <td>0.993366</td>\n      <td>0.854988</td>\n      <td>1.000000</td>\n      <td>0.921826</td>\n      <td>0.035111</td>\n    </tr>\n    <tr>\n      <th>3</th>\n      <td>svm</td>\n      <td>N/A</td>\n      <td>0.623021</td>\n      <td>1.000000</td>\n      <td>0.497362</td>\n      <td>0.398738</td>\n      <td>1.000000</td>\n      <td>0.570139</td>\n      <td>NaN</td>\n    </tr>\n    <tr>\n      <th>4</th>\n      <td>kmeans</td>\n      <td>euclidean</td>\n      <td>0.565949</td>\n      <td>0.995477</td>\n      <td>0.564269</td>\n      <td>0.008857</td>\n      <td>0.999969</td>\n      <td>0.017557</td>\n      <td>0.538962</td>\n    </tr>\n    <tr>\n      <th>5</th>\n      <td>kmeans</td>\n      <td>cityblock</td>\n      <td>0.999942</td>\n      <td>0.996382</td>\n      <td>0.999956</td>\n      <td>0.988779</td>\n      <td>0.999986</td>\n      <td>0.992566</td>\n      <td>0.015064</td>\n    </tr>\n    <tr>\n      <th>6</th>\n      <td>kmeans</td>\n      <td>mahalanobis</td>\n      <td>0.990934</td>\n      <td>0.014925</td>\n      <td>0.994751</td>\n      <td>0.011000</td>\n      <td>0.996142</td>\n      <td>0.012666</td>\n      <td>0.538960</td>\n    </tr>\n    <tr>\n      <th>7</th>\n      <td>agglomerative</td>\n      <td>euclidean</td>\n      <td>0.994651</td>\n      <td>0.997286</td>\n      <td>0.994445</td>\n      <td>0.933531</td>\n      <td>0.999787</td>\n      <td>0.964356</td>\n      <td>0.061553</td>\n    </tr>\n    <tr>\n      <th>8</th>\n      <td>agglomerative</td>\n      <td>manhattan</td>\n      <td>0.994651</td>\n      <td>0.997286</td>\n      <td>0.994445</td>\n      <td>0.933531</td>\n      <td>0.999787</td>\n      <td>0.964356</td>\n      <td>0.063167</td>\n    </tr>\n    <tr>\n      <th>9</th>\n      <td>agglomerative</td>\n      <td>mahalanobis</td>\n      <td>0.994651</td>\n      <td>0.997286</td>\n      <td>0.994445</td>\n      <td>0.933531</td>\n      <td>0.999787</td>\n      <td>0.964356</td>\n      <td>0.062629</td>\n    </tr>\n  </tbody>\n</table>\n</div>"
     },
     "execution_count": 31,
     "metadata": {},
     "output_type": "execute_result"
    }
   ],
   "source": [
    "process_files('./results/', models_excluded=['metacost'])"
   ],
   "metadata": {
    "collapsed": false,
    "ExecuteTime": {
     "end_time": "2024-06-16T00:55:16.263942Z",
     "start_time": "2024-06-16T00:55:16.248250Z"
    }
   }
  },
  {
   "cell_type": "markdown",
   "source": [
    "### 3.1 Porównanie algorytmu MetaCost opartego o KMeans z algorytmem KMeans\n",
    "\n",
    "\n",
    "### Zbiór HTTP"
   ],
   "metadata": {
    "collapsed": false
   }
  },
  {
   "cell_type": "code",
   "execution_count": 32,
   "outputs": [
    {
     "data": {
      "text/plain": "      model       metric  accuracy  positive_recall  negative_recall  \\\n0  metacost  mahalanobis  0.580502         0.794211         0.579666   \n1  metacost    euclidean  0.747444         0.017910         0.750297   \n2  metacost    cityblock  0.570846         0.995025         0.569187   \n3    kmeans    euclidean  0.565949         0.995477         0.564269   \n4    kmeans    cityblock  0.999942         0.996382         0.999956   \n5    kmeans  mahalanobis  0.990934         0.014925         0.994751   \n\n   positive_precision  negative_precision        f1  auc_score  \n0            0.007331            0.998617  0.014528        NaN  \n1            0.036003            0.994549  0.012120        NaN  \n2            0.008953            0.999966  0.017747        NaN  \n3            0.008857            0.999969  0.017557   0.538962  \n4            0.988779            0.999986  0.992566   0.015064  \n5            0.011000            0.996142  0.012666   0.538960  ",
      "text/html": "<div>\n<style scoped>\n    .dataframe tbody tr th:only-of-type {\n        vertical-align: middle;\n    }\n\n    .dataframe tbody tr th {\n        vertical-align: top;\n    }\n\n    .dataframe thead th {\n        text-align: right;\n    }\n</style>\n<table border=\"1\" class=\"dataframe\">\n  <thead>\n    <tr style=\"text-align: right;\">\n      <th></th>\n      <th>model</th>\n      <th>metric</th>\n      <th>accuracy</th>\n      <th>positive_recall</th>\n      <th>negative_recall</th>\n      <th>positive_precision</th>\n      <th>negative_precision</th>\n      <th>f1</th>\n      <th>auc_score</th>\n    </tr>\n  </thead>\n  <tbody>\n    <tr>\n      <th>0</th>\n      <td>metacost</td>\n      <td>mahalanobis</td>\n      <td>0.580502</td>\n      <td>0.794211</td>\n      <td>0.579666</td>\n      <td>0.007331</td>\n      <td>0.998617</td>\n      <td>0.014528</td>\n      <td>NaN</td>\n    </tr>\n    <tr>\n      <th>1</th>\n      <td>metacost</td>\n      <td>euclidean</td>\n      <td>0.747444</td>\n      <td>0.017910</td>\n      <td>0.750297</td>\n      <td>0.036003</td>\n      <td>0.994549</td>\n      <td>0.012120</td>\n      <td>NaN</td>\n    </tr>\n    <tr>\n      <th>2</th>\n      <td>metacost</td>\n      <td>cityblock</td>\n      <td>0.570846</td>\n      <td>0.995025</td>\n      <td>0.569187</td>\n      <td>0.008953</td>\n      <td>0.999966</td>\n      <td>0.017747</td>\n      <td>NaN</td>\n    </tr>\n    <tr>\n      <th>3</th>\n      <td>kmeans</td>\n      <td>euclidean</td>\n      <td>0.565949</td>\n      <td>0.995477</td>\n      <td>0.564269</td>\n      <td>0.008857</td>\n      <td>0.999969</td>\n      <td>0.017557</td>\n      <td>0.538962</td>\n    </tr>\n    <tr>\n      <th>4</th>\n      <td>kmeans</td>\n      <td>cityblock</td>\n      <td>0.999942</td>\n      <td>0.996382</td>\n      <td>0.999956</td>\n      <td>0.988779</td>\n      <td>0.999986</td>\n      <td>0.992566</td>\n      <td>0.015064</td>\n    </tr>\n    <tr>\n      <th>5</th>\n      <td>kmeans</td>\n      <td>mahalanobis</td>\n      <td>0.990934</td>\n      <td>0.014925</td>\n      <td>0.994751</td>\n      <td>0.011000</td>\n      <td>0.996142</td>\n      <td>0.012666</td>\n      <td>0.538960</td>\n    </tr>\n  </tbody>\n</table>\n</div>"
     },
     "execution_count": 32,
     "metadata": {},
     "output_type": "execute_result"
    }
   ],
   "source": [
    "process_files('./results/', models_excluded=['dbscan', 'agglomerative', 'isolationforest', 'svm'])"
   ],
   "metadata": {
    "collapsed": false,
    "ExecuteTime": {
     "end_time": "2024-06-16T00:56:49.601993Z",
     "start_time": "2024-06-16T00:56:49.590567Z"
    }
   }
  },
  {
   "cell_type": "markdown",
   "source": [
    "### Zbiór shuttle"
   ],
   "metadata": {
    "collapsed": false
   }
  },
  {
   "cell_type": "code",
   "execution_count": 33,
   "outputs": [
    {
     "data": {
      "text/plain": "      model       metric  accuracy  positive_recall  negative_recall  \\\n0  metacost  mahalanobis  0.851531         0.970094         0.842399   \n1  metacost    euclidean  0.851543         0.970664         0.842368   \n2  metacost    cityblock  0.857625         0.957391         0.849941   \n3    kmeans    euclidean  0.974907         0.690117         0.996841   \n4    kmeans    manhattan  0.786851         0.017374         0.846115   \n5    kmeans  mahalanobis  0.996089         0.946169         0.999934   \n\n   positive_precision  negative_precision        f1  auc_score  \n0            0.321713            0.997274  0.483156        NaN  \n1            0.321730            0.997326  0.483265        NaN  \n2            0.329490            0.996154  0.490254        NaN  \n3            0.943903            0.976617  0.797302   0.373327  \n4            0.008621            0.917898  0.011524   0.845926  \n5            0.999098            0.995871  0.971913   0.429757  ",
      "text/html": "<div>\n<style scoped>\n    .dataframe tbody tr th:only-of-type {\n        vertical-align: middle;\n    }\n\n    .dataframe tbody tr th {\n        vertical-align: top;\n    }\n\n    .dataframe thead th {\n        text-align: right;\n    }\n</style>\n<table border=\"1\" class=\"dataframe\">\n  <thead>\n    <tr style=\"text-align: right;\">\n      <th></th>\n      <th>model</th>\n      <th>metric</th>\n      <th>accuracy</th>\n      <th>positive_recall</th>\n      <th>negative_recall</th>\n      <th>positive_precision</th>\n      <th>negative_precision</th>\n      <th>f1</th>\n      <th>auc_score</th>\n    </tr>\n  </thead>\n  <tbody>\n    <tr>\n      <th>0</th>\n      <td>metacost</td>\n      <td>mahalanobis</td>\n      <td>0.851531</td>\n      <td>0.970094</td>\n      <td>0.842399</td>\n      <td>0.321713</td>\n      <td>0.997274</td>\n      <td>0.483156</td>\n      <td>NaN</td>\n    </tr>\n    <tr>\n      <th>1</th>\n      <td>metacost</td>\n      <td>euclidean</td>\n      <td>0.851543</td>\n      <td>0.970664</td>\n      <td>0.842368</td>\n      <td>0.321730</td>\n      <td>0.997326</td>\n      <td>0.483265</td>\n      <td>NaN</td>\n    </tr>\n    <tr>\n      <th>2</th>\n      <td>metacost</td>\n      <td>cityblock</td>\n      <td>0.857625</td>\n      <td>0.957391</td>\n      <td>0.849941</td>\n      <td>0.329490</td>\n      <td>0.996154</td>\n      <td>0.490254</td>\n      <td>NaN</td>\n    </tr>\n    <tr>\n      <th>3</th>\n      <td>kmeans</td>\n      <td>euclidean</td>\n      <td>0.974907</td>\n      <td>0.690117</td>\n      <td>0.996841</td>\n      <td>0.943903</td>\n      <td>0.976617</td>\n      <td>0.797302</td>\n      <td>0.373327</td>\n    </tr>\n    <tr>\n      <th>4</th>\n      <td>kmeans</td>\n      <td>manhattan</td>\n      <td>0.786851</td>\n      <td>0.017374</td>\n      <td>0.846115</td>\n      <td>0.008621</td>\n      <td>0.917898</td>\n      <td>0.011524</td>\n      <td>0.845926</td>\n    </tr>\n    <tr>\n      <th>5</th>\n      <td>kmeans</td>\n      <td>mahalanobis</td>\n      <td>0.996089</td>\n      <td>0.946169</td>\n      <td>0.999934</td>\n      <td>0.999098</td>\n      <td>0.995871</td>\n      <td>0.971913</td>\n      <td>0.429757</td>\n    </tr>\n  </tbody>\n</table>\n</div>"
     },
     "execution_count": 33,
     "metadata": {},
     "output_type": "execute_result"
    }
   ],
   "source": [
    "process_files('./results/', models_excluded=['dbscan', 'agglomerative', 'isolationforest', 'svm'], pdataset='shuttle')"
   ],
   "metadata": {
    "collapsed": false,
    "ExecuteTime": {
     "end_time": "2024-06-16T00:56:52.284359Z",
     "start_time": "2024-06-16T00:56:52.271067Z"
    }
   }
  }
 ],
 "metadata": {
  "kernelspec": {
   "display_name": "Python 3",
   "language": "python",
   "name": "python3"
  },
  "language_info": {
   "codemirror_mode": {
    "name": "ipython",
    "version": 3
   },
   "file_extension": ".py",
   "mimetype": "text/x-python",
   "name": "python",
   "nbconvert_exporter": "python",
   "pygments_lexer": "ipython3",
   "version": "3.10.12"
  }
 },
 "nbformat": 4,
 "nbformat_minor": 2
}
