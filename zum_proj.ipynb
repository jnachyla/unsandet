{
 "cells": [
  {
   "cell_type": "code",
   "execution_count": 2,
   "metadata": {
    "ExecuteTime": {
     "end_time": "2024-06-15T15:48:23.055706Z",
     "start_time": "2024-06-15T15:48:21.774817Z"
    }
   },
   "outputs": [],
   "source": [
    "import pandas as pd\n",
    "import numpy as np\n",
    "import scipy.io\n",
    "from anomaly_detector import AnomalyDetector\n",
    "from metrics import AnomalyDetectorEvaluator"
   ]
  },
  {
   "cell_type": "code",
   "execution_count": 3,
   "metadata": {
    "ExecuteTime": {
     "end_time": "2024-06-15T15:48:24.673367Z",
     "start_time": "2024-06-15T15:48:24.507291Z"
    }
   },
   "outputs": [],
   "source": [
    "shuttle = scipy.io.loadmat(\"shuttle.mat\")\n",
    "shuttle_data = pd.DataFrame(shuttle['X'])\n",
    "shuttle_eval = pd.DataFrame(shuttle['y'])\n",
    "http_data = pd.read_csv(\"http_train.csv\")\n",
    "http_eval = pd.read_csv(\"http_eval.csv\")"
   ]
  },
  {
   "cell_type": "code",
   "execution_count": 3,
   "metadata": {
    "ExecuteTime": {
     "end_time": "2024-06-12T14:26:54.469834Z",
     "start_time": "2024-06-12T14:26:54.232479Z"
    },
    "collapsed": false
   },
   "outputs": [],
   "source": [
    "# from subsampler import Subsampler\n",
    "\n",
    "# # Using the Subsampler class\n",
    "# shuttle_subsampler = Subsampler(shuttle_data, shuttle_eval)\n",
    "# shuttle_X_ss, shuttle_y_ss = shuttle_subsampler.subsample(majority_fraction=0.1)\n",
    "\n",
    "# http_subsampler = Subsampler(http_data, http_eval)\n",
    "# http_X_ss, http_y_ss = http_subsampler.subsample(majority_fraction=0.1)"
   ]
  },
  {
   "cell_type": "code",
   "execution_count": 4,
   "metadata": {
    "ExecuteTime": {
     "end_time": "2024-06-15T15:48:28.443441Z",
     "start_time": "2024-06-15T15:48:28.435732Z"
    }
   },
   "outputs": [],
   "source": [
    "shuttle_eval = np.array(shuttle_eval).flatten()\n",
    "http_eval = np.array(http_eval).flatten()"
   ]
  },
  {
   "cell_type": "code",
   "execution_count": 5,
   "metadata": {
    "ExecuteTime": {
     "end_time": "2024-06-08T13:11:15.801308Z",
     "start_time": "2024-06-08T13:11:15.799001Z"
    }
   },
   "outputs": [],
   "source": [
    "#shuttle_data"
   ]
  },
  {
   "cell_type": "code",
   "execution_count": 6,
   "metadata": {
    "ExecuteTime": {
     "end_time": "2024-06-09T13:46:25.673636Z",
     "start_time": "2024-06-09T13:46:25.614674Z"
    }
   },
   "outputs": [
    {
     "name": "stderr",
     "output_type": "stream",
     "text": [
      "/home/jbudzins/.local/lib/python3.10/site-packages/sklearn/cluster/_kmeans.py:870: FutureWarning: The default value of `n_init` will change from 10 to 'auto' in 1.4. Set the value of `n_init` explicitly to suppress the warning\n",
      "  warnings.warn(\n"
     ]
    }
   ],
   "source": [
    "kmeans = AnomalyDetector(model=\"kmeans\", metric=\"euclidean\", n_clusters=2)\n",
    "labels_shuttle_kmeans, distances_shuttle_kmeans = kmeans.fit_predict(data=shuttle_data)\n",
    "labels_shuttle_kmeans = AnomalyDetector.transform_labels(labels_shuttle_kmeans)\n",
    "distances_shuttle_kmeans = AnomalyDetector.transform_distances(distances_shuttle_kmeans)\n",
    "evaluator_shuttle_kmeans = AnomalyDetectorEvaluator(shuttle_eval, labels_shuttle_kmeans, distances_shuttle_kmeans)"
   ]
  },
  {
   "cell_type": "code",
   "execution_count": 7,
   "metadata": {
    "ExecuteTime": {
     "end_time": "2024-06-09T13:46:28.637169Z",
     "start_time": "2024-06-09T13:46:28.595341Z"
    },
    "collapsed": false
   },
   "outputs": [
    {
     "data": {
      "text/plain": [
       "{'accuracy': 0.9960893740961769,\n",
       " 'outliers_accuracy': 0.9461691825690687,\n",
       " 'precision': 0.9990977443609023,\n",
       " 'recall': 0.9461691825690687,\n",
       " 'precision_recall_curve': (array([0.0715115 , 0.46924644, 1.        ]),\n",
       "  array([1.        , 0.32811165, 0.        ])),\n",
       " 'auc_pr': 0.42270291358630463,\n",
       " 'confusion_matrix_percentage':                          Positive Prediction        Negative Prediction\n",
       " 0  Positive Class   True Positive (TP) 6.77%  False Negative (FN) 0.38%\n",
       " 1  Negative Class  False Positive (FP) 0.01%  True Negative (TN) 92.84%,\n",
       " 'imbalanced_metrics':                Metric   Value\n",
       " 0     Positive Recall  94.62%\n",
       " 1     Negative Recall  99.99%\n",
       " 2  Positive Precision  99.91%\n",
       " 3  Negative Precision  99.59%}"
      ]
     },
     "execution_count": 7,
     "metadata": {},
     "output_type": "execute_result"
    }
   ],
   "source": [
    "evaluator_shuttle_kmeans.calculate_all_metrics()"
   ]
  },
  {
   "cell_type": "code",
   "execution_count": 8,
   "metadata": {},
   "outputs": [
    {
     "name": "stderr",
     "output_type": "stream",
     "text": [
      "/home/jbudzins/.local/lib/python3.10/site-packages/sklearn/cluster/_kmeans.py:870: FutureWarning: The default value of `n_init` will change from 10 to 'auto' in 1.4. Set the value of `n_init` explicitly to suppress the warning\n",
      "  warnings.warn(\n"
     ]
    }
   ],
   "source": [
    "kmeans = AnomalyDetector(model=\"kmeans\", metric=\"mahalanobis\", n_clusters=2)\n",
    "labels_shuttle_kmeans, distances_shuttle_kmeans = kmeans.fit_predict(data=shuttle_data)\n",
    "labels_shuttle_kmeans = AnomalyDetector.transform_labels(labels_shuttle_kmeans)\n",
    "distances_shuttle_kmeans = AnomalyDetector.transform_distances(distances_shuttle_kmeans)\n",
    "evaluator_shuttle_kmeans = AnomalyDetectorEvaluator(shuttle_eval, labels_shuttle_kmeans, distances_shuttle_kmeans)"
   ]
  },
  {
   "cell_type": "code",
   "execution_count": 9,
   "metadata": {},
   "outputs": [
    {
     "data": {
      "text/plain": [
       "{'accuracy': 0.9960893740961769,\n",
       " 'outliers_accuracy': 0.9461691825690687,\n",
       " 'precision': 0.9990977443609023,\n",
       " 'recall': 0.9461691825690687,\n",
       " 'precision_recall_curve': (array([0.0715115 , 0.47780041, 1.        ]),\n",
       "  array([1.        , 0.33409285, 0.        ])),\n",
       " 'auc_pr': 0.4297566379439553,\n",
       " 'confusion_matrix_percentage':                          Positive Prediction        Negative Prediction\n",
       " 0  Positive Class   True Positive (TP) 6.77%  False Negative (FN) 0.38%\n",
       " 1  Negative Class  False Positive (FP) 0.01%  True Negative (TN) 92.84%,\n",
       " 'imbalanced_metrics':                Metric   Value\n",
       " 0     Positive Recall  94.62%\n",
       " 1     Negative Recall  99.99%\n",
       " 2  Positive Precision  99.91%\n",
       " 3  Negative Precision  99.59%}"
      ]
     },
     "execution_count": 9,
     "metadata": {},
     "output_type": "execute_result"
    }
   ],
   "source": [
    "evaluator_shuttle_kmeans.calculate_all_metrics()"
   ]
  },
  {
   "cell_type": "code",
   "execution_count": 10,
   "metadata": {
    "ExecuteTime": {
     "end_time": "2024-06-09T13:53:32.289377Z",
     "start_time": "2024-06-09T13:53:32.187807Z"
    }
   },
   "outputs": [
    {
     "name": "stderr",
     "output_type": "stream",
     "text": [
      "/home/jbudzins/.local/lib/python3.10/site-packages/sklearn/cluster/_kmeans.py:870: FutureWarning: The default value of `n_init` will change from 10 to 'auto' in 1.4. Set the value of `n_init` explicitly to suppress the warning\n",
      "  warnings.warn(\n"
     ]
    }
   ],
   "source": [
    "labels_shuttle_kmeans, distances_shuttle_kmeans = kmeans.fit_predict(data=shuttle_data)"
   ]
  },
  {
   "cell_type": "code",
   "execution_count": 11,
   "metadata": {},
   "outputs": [
    {
     "name": "stderr",
     "output_type": "stream",
     "text": [
      "/home/jbudzins/.local/lib/python3.10/site-packages/sklearn/cluster/_kmeans.py:870: FutureWarning: The default value of `n_init` will change from 10 to 'auto' in 1.4. Set the value of `n_init` explicitly to suppress the warning\n",
      "  warnings.warn(\n"
     ]
    }
   ],
   "source": [
    "kmeans = AnomalyDetector(model=\"kmeans\", metric=\"manhattan\", n_clusters=2)\n",
    "labels_shuttle_kmeans, distances_shuttle_kmeans = kmeans.fit_predict(data=shuttle_data)\n",
    "labels_shuttle_kmeans = AnomalyDetector.transform_labels(labels_shuttle_kmeans)\n",
    "distances_shuttle_kmeans = AnomalyDetector.transform_distances(distances_shuttle_kmeans)\n",
    "evaluator_shuttle_kmeans = AnomalyDetectorEvaluator(shuttle_eval, labels_shuttle_kmeans, distances_shuttle_kmeans)"
   ]
  },
  {
   "cell_type": "code",
   "execution_count": 12,
   "metadata": {},
   "outputs": [
    {
     "data": {
      "text/plain": [
       "{'accuracy': 0.9960690062529278,\n",
       " 'outliers_accuracy': 0.9458843634292224,\n",
       " 'precision': 0.9990974729241877,\n",
       " 'recall': 0.9458843634292224,\n",
       " 'precision_recall_curve': (array([0.0715115 , 0.58044807, 1.        ]),\n",
       "  array([1.        , 0.40586727, 0.        ])),\n",
       " 'auc_pr': 0.5144013302357626,\n",
       " 'confusion_matrix_percentage':                          Positive Prediction        Negative Prediction\n",
       " 0  Positive Class   True Positive (TP) 6.76%  False Negative (FN) 0.39%\n",
       " 1  Negative Class  False Positive (FP) 0.01%  True Negative (TN) 92.84%,\n",
       " 'imbalanced_metrics':                Metric   Value\n",
       " 0     Positive Recall  94.59%\n",
       " 1     Negative Recall  99.99%\n",
       " 2  Positive Precision  99.91%\n",
       " 3  Negative Precision  99.58%}"
      ]
     },
     "execution_count": 12,
     "metadata": {},
     "output_type": "execute_result"
    }
   ],
   "source": [
    "evaluator_shuttle_kmeans.calculate_all_metrics()"
   ]
  },
  {
   "cell_type": "code",
   "execution_count": 13,
   "metadata": {
    "ExecuteTime": {
     "end_time": "2024-06-09T13:56:15.859431Z",
     "start_time": "2024-06-09T13:55:58.587823Z"
    }
   },
   "outputs": [],
   "source": [
    "dbscan = AnomalyDetector(model=\"dbscan\", metric=\"euclidean\")\n",
    "labels_shuttle_dbscan, distances_shuttle_dbscan = dbscan.fit_predict(data=shuttle_data)\n",
    "labels_shuttle_dbscan = AnomalyDetector.transform_labels(labels_shuttle_dbscan)\n",
    "distances_shuttle_dbscan = AnomalyDetector.transform_distances(distances_shuttle_dbscan)\n",
    "evaluator_shuttle_dbscan = AnomalyDetectorEvaluator(shuttle_eval, labels_shuttle_dbscan, distances_shuttle_dbscan)\n"
   ]
  },
  {
   "cell_type": "code",
   "execution_count": 14,
   "metadata": {
    "ExecuteTime": {
     "end_time": "2024-06-09T14:03:10.757351Z",
     "start_time": "2024-06-09T14:03:10.713896Z"
    }
   },
   "outputs": [
    {
     "data": {
      "text/plain": [
       "{'accuracy': 0.9939711183982728,\n",
       " 'outliers_accuracy': 0.9584164055824551,\n",
       " 'precision': 0.957325746799431,\n",
       " 'recall': 0.9584164055824551,\n",
       " 'precision_recall_curve': (array([0.0715115 , 0.21868625, 1.        ]),\n",
       "  array([1.        , 0.15266306, 0.        ])),\n",
       " 'auc_pr': 0.215971821566783,\n",
       " 'confusion_matrix_percentage':                          Positive Prediction        Negative Prediction\n",
       " 0  Positive Class   True Positive (TP) 6.85%  False Negative (FN) 0.30%\n",
       " 1  Negative Class  False Positive (FP) 0.31%  True Negative (TN) 92.54%,\n",
       " 'imbalanced_metrics':                Metric   Value\n",
       " 0     Positive Recall  95.84%\n",
       " 1     Negative Recall  99.67%\n",
       " 2  Positive Precision  95.73%\n",
       " 3  Negative Precision  99.68%}"
      ]
     },
     "execution_count": 14,
     "metadata": {},
     "output_type": "execute_result"
    }
   ],
   "source": [
    "evaluator_shuttle_dbscan.calculate_all_metrics()"
   ]
  },
  {
   "cell_type": "code",
   "execution_count": 15,
   "metadata": {},
   "outputs": [
    {
     "ename": "KeyboardInterrupt",
     "evalue": "",
     "output_type": "error",
     "traceback": [
      "\u001B[0;31m---------------------------------------------------------------------------\u001B[0m",
      "\u001B[0;31mKeyboardInterrupt\u001B[0m                         Traceback (most recent call last)",
      "File \u001B[0;32msklearn/neighbors/_binary_tree.pxi:1021\u001B[0m, in \u001B[0;36msklearn.neighbors._ball_tree.BinaryTree.rdist\u001B[0;34m()\u001B[0m\n",
      "File \u001B[0;32msklearn/metrics/_dist_metrics.pyx:328\u001B[0m, in \u001B[0;36msklearn.metrics._dist_metrics.DistanceMetric.rdist\u001B[0;34m()\u001B[0m\n",
      "File \u001B[0;32msklearn/metrics/_dist_metrics.pyx:2762\u001B[0m, in \u001B[0;36msklearn.metrics._dist_metrics.PyFuncDistance.dist\u001B[0;34m()\u001B[0m\n",
      "File \u001B[0;32msklearn/metrics/_dist_metrics.pyx:2774\u001B[0m, in \u001B[0;36msklearn.metrics._dist_metrics.PyFuncDistance._dist\u001B[0;34m()\u001B[0m\n",
      "File \u001B[0;32m~/zum_24l/anomaly_detector.py:195\u001B[0m, in \u001B[0;36mAnomalyDetector._mahalanobis_metric\u001B[0;34m(self, u, v)\u001B[0m\n\u001B[1;32m    192\u001B[0m     \u001B[38;5;28;01melif\u001B[39;00m \u001B[38;5;28mself\u001B[39m\u001B[38;5;241m.\u001B[39mmodel_name \u001B[38;5;241m==\u001B[39m \u001B[38;5;124m\"\u001B[39m\u001B[38;5;124magglomerative\u001B[39m\u001B[38;5;124m\"\u001B[39m:\n\u001B[1;32m    193\u001B[0m         \u001B[38;5;28mself\u001B[39m\u001B[38;5;241m.\u001B[39mmodel \u001B[38;5;241m=\u001B[39m AgglomerativeClustering(n_clusters\u001B[38;5;241m=\u001B[39m\u001B[38;5;28mself\u001B[39m\u001B[38;5;241m.\u001B[39mn_clusters, distance_threshold\u001B[38;5;241m=\u001B[39m\u001B[38;5;28;01mNone\u001B[39;00m, connectivity\u001B[38;5;241m=\u001B[39m\u001B[38;5;28;01mNone\u001B[39;00m)\n\u001B[0;32m--> 195\u001B[0m \u001B[38;5;28;01mdef\u001B[39;00m \u001B[38;5;21m_mahalanobis_metric\u001B[39m(\u001B[38;5;28mself\u001B[39m, u, v):\n\u001B[1;32m    196\u001B[0m     \u001B[38;5;28;01mreturn\u001B[39;00m mahalanobis(u, v, \u001B[38;5;28mself\u001B[39m\u001B[38;5;241m.\u001B[39minv_covariance_matrix)\n\u001B[1;32m    198\u001B[0m \u001B[38;5;28;01mdef\u001B[39;00m \u001B[38;5;21m_handle_dbscan_distances\u001B[39m(\u001B[38;5;28mself\u001B[39m, data: np\u001B[38;5;241m.\u001B[39mndarray, labels):\n",
      "\u001B[0;31mKeyboardInterrupt\u001B[0m: "
     ]
    },
    {
     "name": "stderr",
     "output_type": "stream",
     "text": [
      "Exception ignored in: 'sklearn.neighbors._ball_tree.BinaryTree._query_radius_single'\n",
      "Traceback (most recent call last):\n",
      "  File \"sklearn/neighbors/_binary_tree.pxi\", line 1021, in sklearn.neighbors._ball_tree.BinaryTree.rdist\n",
      "  File \"sklearn/metrics/_dist_metrics.pyx\", line 328, in sklearn.metrics._dist_metrics.DistanceMetric.rdist\n",
      "  File \"sklearn/metrics/_dist_metrics.pyx\", line 2762, in sklearn.metrics._dist_metrics.PyFuncDistance.dist\n",
      "  File \"sklearn/metrics/_dist_metrics.pyx\", line 2774, in sklearn.metrics._dist_metrics.PyFuncDistance._dist\n",
      "  File \"/home/jbudzins/zum_24l/anomaly_detector.py\", line 195, in _mahalanobis_metric\n",
      "    def _mahalanobis_metric(self, u, v):\n",
      "KeyboardInterrupt: \n"
     ]
    }
   ],
   "source": [
    "dbscan = AnomalyDetector(model=\"dbscan\", metric=\"mahalanobis\")\n",
    "labels_shuttle_dbscan, distances_shuttle_dbscan = dbscan.fit_predict(data=shuttle_data)\n",
    "labels_shuttle_dbscan = AnomalyDetector.transform_labels(labels_shuttle_dbscan)\n",
    "distances_shuttle_dbscan = AnomalyDetector.transform_distances(distances_shuttle_dbscan)\n",
    "evaluator_shuttle_dbscan = AnomalyDetectorEvaluator(shuttle_eval, labels_shuttle_dbscan, distances_shuttle_dbscan)"
   ]
  },
  {
   "cell_type": "code",
   "execution_count": null,
   "metadata": {},
   "outputs": [],
   "source": [
    "evaluator_shuttle_dbscan.calculate_all_metrics()"
   ]
  },
  {
   "cell_type": "code",
   "execution_count": null,
   "metadata": {},
   "outputs": [],
   "source": [
    "dbscan = AnomalyDetector(model=\"dbscan\", metric=\"manhattan\")\n",
    "labels_shuttle_dbscan, distances_shuttle_dbscan = dbscan.fit_predict(data=shuttle_data)\n",
    "labels_shuttle_dbscan = AnomalyDetector.transform_labels(labels_shuttle_dbscan)\n",
    "distances_shuttle_dbscan = AnomalyDetector.transform_distances(distances_shuttle_dbscan)\n",
    "evaluator_shuttle_dbscan = AnomalyDetectorEvaluator(shuttle_eval, labels_shuttle_dbscan, distances_shuttle_dbscan)"
   ]
  },
  {
   "cell_type": "code",
   "execution_count": null,
   "metadata": {},
   "outputs": [],
   "source": [
    "evaluator_shuttle_dbscan.calculate_all_metrics()"
   ]
  },
  {
   "cell_type": "code",
   "execution_count": null,
   "metadata": {
    "ExecuteTime": {
     "end_time": "2024-06-09T14:04:37.194331Z",
     "start_time": "2024-06-09T14:04:29.803335Z"
    }
   },
   "outputs": [],
   "source": [
    "\n",
    "batch_size = 10000\n",
    "\n",
    "all_labels = []\n",
    "all_distances = []\n",
    "\n",
    "for start in range(0, len(shuttle_data), batch_size):\n",
    "    end = start + batch_size\n",
    "    batch_data = shuttle_data[start:end]\n",
    "\n",
    "    agglomerative = AnomalyDetector(model=\"agglomerative\", metric=\"euclidean\", n_clusters=2)\n",
    "    labels_batch, distances_batch = agglomerative.fit_predict(data=batch_data)\n",
    "\n",
    "    all_labels.extend(AnomalyDetector.transform_labels(labels_batch))\n",
    "    all_distances.extend(AnomalyDetector.transform_distances(distances_batch))\n",
    "\n",
    "all_labels = np.array(all_labels)\n",
    "all_distances = np.array(all_distances)\n",
    "\n",
    "evaluator_shuttle_agglomerative = AnomalyDetectorEvaluator(shuttle_eval, all_labels, all_distances)"
   ]
  },
  {
   "cell_type": "code",
   "execution_count": null,
   "metadata": {},
   "outputs": [],
   "source": [
    "\n",
    "batch_size = 10000\n",
    "\n",
    "all_labels = []\n",
    "all_distances = []\n",
    "\n",
    "for start in range(0, len(shuttle_data), batch_size):\n",
    "    end = start + batch_size\n",
    "    batch_data = shuttle_data[start:end]\n",
    "\n",
    "    agglomerative = AnomalyDetector(model=\"agglomerative\", metric=\"mahalanobis\", n_clusters=2)\n",
    "    labels_batch, distances_batch = agglomerative.fit_predict(data=batch_data)\n",
    "\n",
    "    all_labels.extend(AnomalyDetector.transform_labels(labels_batch))\n",
    "    all_distances.extend(AnomalyDetector.transform_distances(distances_batch))\n",
    "\n",
    "all_labels = np.array(all_labels)\n",
    "all_distances = np.array(all_distances)\n",
    "\n",
    "evaluator_shuttle_agglomerative = AnomalyDetectorEvaluator(shuttle_eval, all_labels, all_distances)"
   ]
  },
  {
   "cell_type": "code",
   "execution_count": null,
   "metadata": {
    "ExecuteTime": {
     "end_time": "2024-06-09T14:04:48.817332Z",
     "start_time": "2024-06-09T14:04:48.772838Z"
    },
    "collapsed": false
   },
   "outputs": [],
   "source": [
    "evaluator_shuttle_agglomerative.calculate_all_metrics()"
   ]
  },
  {
   "cell_type": "code",
   "execution_count": null,
   "metadata": {},
   "outputs": [],
   "source": [
    "batch_size = 10000\n",
    "\n",
    "all_labels = []\n",
    "all_distances = []\n",
    "\n",
    "for start in range(0, len(shuttle_data), batch_size):\n",
    "    end = start + batch_size\n",
    "    batch_data = shuttle_data[start:end]\n",
    "\n",
    "    agglomerative = AnomalyDetector(model=\"agglomerative\", metric=\"manhattan\", n_clusters=2)\n",
    "    labels_batch, distances_batch = agglomerative.fit_predict(data=batch_data)\n",
    "\n",
    "    all_labels.extend(AnomalyDetector.transform_labels(labels_batch))\n",
    "    all_distances.extend(AnomalyDetector.transform_distances(distances_batch))\n",
    "\n",
    "all_labels = np.array(all_labels)\n",
    "all_distances = np.array(all_distances)\n",
    "\n",
    "evaluator_shuttle_agglomerative = AnomalyDetectorEvaluator(shuttle_eval, all_labels, all_distances)"
   ]
  },
  {
   "cell_type": "code",
   "execution_count": null,
   "metadata": {
    "ExecuteTime": {
     "end_time": "2024-06-09T14:07:41.072053Z",
     "start_time": "2024-06-09T14:07:33.716174Z"
    }
   },
   "outputs": [],
   "source": [
    "# # liczy się nie wiadomo ile i nie wiem po co\n",
    "# agglomerative = AnomalyDetector(model=\"agglomerative\", n_clusters=2)\n",
    "# labels_shuttle_agglomerative, distances_shuttle_agglomerative = agglomerative.fit_predict(data=shuttle_data)\n",
    "# labels_shuttle_agglomerative = AnomalyDetector.transform_labels(labels_shuttle_agglomerative)\n",
    "# distances_shuttle_agglomerative = AnomalyDetector.transform_distances(distances_shuttle_agglomerative)\n",
    "# evaluator_shuttle_agglomerative = AnomalyDetectorEvaluator(shuttle_eval, labels_shuttle_agglomerative, distances_shuttle_agglomerative)"
   ]
  },
  {
   "cell_type": "markdown",
   "metadata": {
    "collapsed": false
   },
   "source": [
    "# Zbiór danych HTTP "
   ]
  },
  {
   "cell_type": "code",
   "execution_count": 5,
   "metadata": {
    "ExecuteTime": {
     "end_time": "2024-06-15T15:48:52.382468Z",
     "start_time": "2024-06-15T15:48:51.850298Z"
    }
   },
   "outputs": [],
   "source": [
    "kmeans = AnomalyDetector(model=\"kmeans\", metric=\"euclidean\", n_clusters=2)\n",
    "labels_http_kmeans, distances_http_kmeans = kmeans.fit_predict(data=http_data)\n",
    "labels_http_kmeans = AnomalyDetector.transform_labels(labels_http_kmeans)\n",
    "distances_http_kmeans = AnomalyDetector.transform_distances(distances_http_kmeans)\n",
    "evaluator_http_kmeans = AnomalyDetectorEvaluator(http_eval, labels_http_kmeans, distances_http_kmeans)"
   ]
  },
  {
   "cell_type": "code",
   "execution_count": 6,
   "metadata": {
    "collapsed": false,
    "ExecuteTime": {
     "end_time": "2024-06-15T15:49:36.919080Z",
     "start_time": "2024-06-15T15:49:36.273973Z"
    }
   },
   "outputs": [
    {
     "data": {
      "text/plain": "{'accuracy': 0.990933888753793,\n 'outliers_accuracy': 0.014925373134328358,\n 'precision': 0.011,\n 'recall': 0.014925373134328358,\n 'precision_recall_curve': (array([0.00389605, 0.0779262 , 1.        ]),\n  array([1., 1., 0.])),\n 'auc_pr': 0.5389630987206147,\n 'confusion_matrix_percentage':                          Positive Prediction        Negative Prediction\n 0  Positive Class   True Positive (TP) 0.01%  False Negative (FN) 0.38%\n 1  Negative Class  False Positive (FP) 0.52%  True Negative (TN) 99.09%,\n 'imbalanced_metrics':                Metric   Value\n 0     Positive Recall   1.49%\n 1     Negative Recall  99.48%\n 2  Positive Precision   1.10%\n 3  Negative Precision  99.61%}"
     },
     "execution_count": 6,
     "metadata": {},
     "output_type": "execute_result"
    }
   ],
   "source": [
    "evaluator_http_kmeans.calculate_all_metrics()"
   ]
  },
  {
   "cell_type": "code",
   "execution_count": 7,
   "metadata": {
    "ExecuteTime": {
     "end_time": "2024-06-15T15:49:56.467463Z",
     "start_time": "2024-06-15T15:49:51.897608Z"
    }
   },
   "outputs": [],
   "source": [
    "kmeans = AnomalyDetector(model=\"kmeans\", metric=\"mahalanobis\", n_clusters=2)\n",
    "labels_http_kmeans, distances_http_kmeans = kmeans.fit_predict(data=http_data)\n",
    "labels_http_kmeans = AnomalyDetector.transform_labels(labels_http_kmeans)\n",
    "distances_http_kmeans = AnomalyDetector.transform_distances(distances_http_kmeans)\n",
    "evaluator_http_kmeans = AnomalyDetectorEvaluator(http_eval, labels_http_kmeans, distances_http_kmeans)"
   ]
  },
  {
   "cell_type": "code",
   "execution_count": 8,
   "metadata": {
    "ExecuteTime": {
     "end_time": "2024-06-15T15:49:59.357884Z",
     "start_time": "2024-06-15T15:49:58.746379Z"
    }
   },
   "outputs": [
    {
     "data": {
      "text/plain": "{'accuracy': 0.5669641126488552,\n 'outliers_accuracy': 0.005427408412483039,\n 'precision': 4.926917392018394e-05,\n 'recall': 0.005427408412483039,\n 'precision_recall_curve': (array([0.00389605, 0.0779207 , 1.        ]),\n  array([1., 1., 0.])),\n 'auc_pr': 0.5389603524229075,\n 'confusion_matrix_percentage':                           Positive Prediction        Negative Prediction\n 0  Positive Class    True Positive (TP) 0.00%  False Negative (FN) 0.39%\n 1  Negative Class  False Positive (FP) 42.92%  True Negative (TN) 56.69%,\n 'imbalanced_metrics':                Metric   Value\n 0     Positive Recall   0.54%\n 1     Negative Recall  56.92%\n 2  Positive Precision   0.00%\n 3  Negative Precision  99.32%}"
     },
     "execution_count": 8,
     "metadata": {},
     "output_type": "execute_result"
    }
   ],
   "source": [
    "evaluator_http_kmeans.calculate_all_metrics()"
   ]
  },
  {
   "cell_type": "code",
   "execution_count": 9,
   "metadata": {
    "ExecuteTime": {
     "end_time": "2024-06-15T15:50:05.328847Z",
     "start_time": "2024-06-15T15:50:05.118363Z"
    }
   },
   "outputs": [],
   "source": [
    "kmeans = AnomalyDetector(model=\"kmeans\", metric=\"manhattan\", n_clusters=2)\n",
    "labels_http_kmeans, distances_http_kmeans = kmeans.fit_predict(data=http_data)\n",
    "labels_http_kmeans = AnomalyDetector.transform_labels(labels_http_kmeans)\n",
    "distances_http_kmeans = AnomalyDetector.transform_distances(distances_http_kmeans)\n",
    "evaluator_http_kmeans = AnomalyDetectorEvaluator(http_eval, labels_http_kmeans, distances_http_kmeans)"
   ]
  },
  {
   "cell_type": "code",
   "execution_count": 10,
   "metadata": {
    "ExecuteTime": {
     "end_time": "2024-06-15T15:50:08.570795Z",
     "start_time": "2024-06-15T15:50:07.974108Z"
    }
   },
   "outputs": [
    {
     "data": {
      "text/plain": "{'accuracy': 0.5622451532868838,\n 'outliers_accuracy': 0.9954771596562642,\n 'precision': 0.008782360264308743,\n 'recall': 0.9954771596562642,\n 'precision_recall_curve': (array([0.00389605, 0.07792345, 1.        ]),\n  array([1., 1., 0.])),\n 'auc_pr': 0.5389617255233665,\n 'confusion_matrix_percentage':                           Positive Prediction        Negative Prediction\n 0  Positive Class    True Positive (TP) 0.39%  False Negative (FN) 0.00%\n 1  Negative Class  False Positive (FP) 43.77%  True Negative (TN) 55.84%,\n 'imbalanced_metrics':                Metric    Value\n 0     Positive Recall   99.55%\n 1     Negative Recall   56.06%\n 2  Positive Precision    0.88%\n 3  Negative Precision  100.00%}"
     },
     "execution_count": 10,
     "metadata": {},
     "output_type": "execute_result"
    }
   ],
   "source": [
    "evaluator_http_kmeans.calculate_all_metrics()"
   ]
  },
  {
   "cell_type": "code",
   "execution_count": null,
   "metadata": {
    "ExecuteTime": {
     "start_time": "2024-06-08T13:11:15.978751Z"
    }
   },
   "outputs": [],
   "source": [
    "%load_ext memory_profiler"
   ]
  },
  {
   "cell_type": "code",
   "execution_count": 1,
   "metadata": {
    "ExecuteTime": {
     "end_time": "2024-06-15T15:52:12.402118Z",
     "start_time": "2024-06-15T15:52:12.283522Z"
    }
   },
   "outputs": [
    {
     "ename": "NameError",
     "evalue": "name 'AnomalyDetector' is not defined",
     "output_type": "error",
     "traceback": [
      "\u001B[0;31m---------------------------------------------------------------------------\u001B[0m",
      "\u001B[0;31mNameError\u001B[0m                                 Traceback (most recent call last)",
      "Cell \u001B[0;32mIn[1], line 1\u001B[0m\n\u001B[0;32m----> 1\u001B[0m dbscan \u001B[38;5;241m=\u001B[39m \u001B[43mAnomalyDetector\u001B[49m(model\u001B[38;5;241m=\u001B[39m\u001B[38;5;124m\"\u001B[39m\u001B[38;5;124mdbscan\u001B[39m\u001B[38;5;124m\"\u001B[39m, metric\u001B[38;5;241m=\u001B[39m\u001B[38;5;124m\"\u001B[39m\u001B[38;5;124meuclidean\u001B[39m\u001B[38;5;124m\"\u001B[39m)\n\u001B[1;32m      2\u001B[0m labels_http_dbscan, distances_http_dbscan \u001B[38;5;241m=\u001B[39m dbscan\u001B[38;5;241m.\u001B[39mfit_predict(data\u001B[38;5;241m=\u001B[39mhttp_data)\n\u001B[1;32m      3\u001B[0m labels_http_kmeans \u001B[38;5;241m=\u001B[39m AnomalyDetector\u001B[38;5;241m.\u001B[39mtransform_labels(labels_http_kmeans)\n",
      "\u001B[0;31mNameError\u001B[0m: name 'AnomalyDetector' is not defined"
     ]
    }
   ],
   "source": [
    "dbscan = AnomalyDetector(model=\"dbscan\", metric=\"euclidean\")\n",
    "labels_http_dbscan, distances_http_dbscan = dbscan.fit_predict(data=http_data)\n",
    "labels_http_kmeans = AnomalyDetector.transform_labels(labels_http_kmeans)\n",
    "distances_http_kmeans = AnomalyDetector.transform_distances(distances_http_kmeans)\n",
    "evaluator_http_dbscan = AnomalyDetectorEvaluator(http_eval, labels_http_dbscan, distances_http_dbscan)"
   ]
  },
  {
   "cell_type": "code",
   "execution_count": null,
   "metadata": {
    "collapsed": false
   },
   "outputs": [],
   "source": [
    "evaluator_http_dbscan.calculate_all_metrics()"
   ]
  },
  {
   "cell_type": "code",
   "execution_count": null,
   "metadata": {},
   "outputs": [],
   "source": [
    "dbscan = AnomalyDetector(model=\"dbscan\", metric=\"mahalanobis\")\n",
    "labels_http_dbscan, distances_http_dbscan = dbscan.fit_predict(data=http_data)\n",
    "labels_http_kmeans = AnomalyDetector.transform_labels(labels_http_kmeans)\n",
    "distances_http_kmeans = AnomalyDetector.transform_distances(distances_http_kmeans)\n",
    "evaluator_http_dbscan = AnomalyDetectorEvaluator(http_eval, labels_http_dbscan, distances_http_dbscan)"
   ]
  },
  {
   "cell_type": "code",
   "execution_count": null,
   "metadata": {},
   "outputs": [],
   "source": [
    "evaluator_http_dbscan.calculate_all_metrics()"
   ]
  },
  {
   "cell_type": "code",
   "execution_count": null,
   "metadata": {},
   "outputs": [],
   "source": [
    "dbscan = AnomalyDetector(model=\"dbscan\", metric=\"manhattan\")\n",
    "labels_http_dbscan, distances_http_dbscan = dbscan.fit_predict(data=http_data)\n",
    "labels_http_kmeans = AnomalyDetector.transform_labels(labels_http_kmeans)\n",
    "distances_http_kmeans = AnomalyDetector.transform_distances(distances_http_kmeans)\n",
    "evaluator_http_dbscan = AnomalyDetectorEvaluator(http_eval, labels_http_dbscan, distances_http_dbscan)"
   ]
  },
  {
   "cell_type": "code",
   "execution_count": null,
   "metadata": {},
   "outputs": [],
   "source": [
    "evaluator_http_dbscan.calculate_all_metrics()"
   ]
  },
  {
   "cell_type": "code",
   "execution_count": null,
   "metadata": {
    "ExecuteTime": {
     "start_time": "2024-06-08T13:11:15.983450Z"
    }
   },
   "outputs": [],
   "source": [
    "# agglomerative = AnomalyDetector(model=\"agglomerative\", n_clusters=2)\n",
    "# labels_http_agglomerative, distances_http_agglomerative = agglomerative.fit_predict(data=http_data)\n",
    "# evaluator_http_agglomerative = AnomalyDetectorEvaluator(http_eval, labels_http_agglomerative, distances_http_agglomerative)\n",
    "# accuracy_http_agglomerative = evaluator_http_agglomerative.calculate_accuracy()\n",
    "# recall_http_agglomerative = evaluator_http_agglomerative.calculate_recall()\n",
    "# precision_http_agglomerative = evaluator_http_agglomerative.calculate_precision()\n",
    "# auc_pr_http_agglomerative = evaluator_http_agglomerative.calculate_auc_pr()"
   ]
  },
  {
   "cell_type": "code",
   "execution_count": null,
   "metadata": {
    "ExecuteTime": {
     "start_time": "2024-06-08T13:11:15.984584Z"
    }
   },
   "outputs": [],
   "source": [
    "batch_size = 20000\n",
    "\n",
    "all_labels = []\n",
    "all_distances = []\n",
    "\n",
    "for start in range(0, len(http_data), batch_size):\n",
    "    end = start + batch_size\n",
    "    batch_data = http_data[start:end]\n",
    "\n",
    "    agglomerative = AnomalyDetector(model=\"agglomerative\", metric=\"euclidean\", n_clusters=2)\n",
    "    labels_batch, distances_batch = agglomerative.fit_predict(data=batch_data)\n",
    "\n",
    "    all_labels.extend(AnomalyDetector.transform_labels(labels_batch))\n",
    "    all_distances.extend(AnomalyDetector.transform_distances(distances_batch))\n",
    "\n",
    "all_labels = np.array(all_labels)\n",
    "all_distances = np.array(all_distances)\n",
    "\n",
    "evaluator_http_agglomerative = AnomalyDetectorEvaluator(http_eval, all_labels, all_distances)\n",
    "# accuracy_http_agglomerative = evaluator_http_agglomerative.calculate_accuracy()\n",
    "# recall_http_agglomerative = evaluator_http_agglomerative.calculate_recall()\n",
    "# precision_http_agglomerative = evaluator_http_agglomerative.calculate_precision()\n",
    "# auc_pr_http_agglomerative = evaluator_http_agglomerative.calculate_auc_pr()\n",
    "\n",
    "# accuracy_http_agglomerative, recall_http_agglomerative, precision_http_agglomerative, auc_pr_http_agglomerative"
   ]
  },
  {
   "cell_type": "code",
   "execution_count": null,
   "metadata": {},
   "outputs": [],
   "source": [
    "evaluator_http_agglomerative.calculate_all_metrics()"
   ]
  },
  {
   "cell_type": "code",
   "execution_count": null,
   "metadata": {},
   "outputs": [],
   "source": [
    "batch_size = 20000\n",
    "\n",
    "all_labels = []\n",
    "all_distances = []\n",
    "\n",
    "for start in range(0, len(http_data), batch_size):\n",
    "    end = start + batch_size\n",
    "    batch_data = http_data[start:end]\n",
    "\n",
    "    agglomerative = AnomalyDetector(model=\"agglomerative\", metric=\"mahalanobis\", n_clusters=2)\n",
    "    labels_batch, distances_batch = agglomerative.fit_predict(data=batch_data)\n",
    "\n",
    "    all_labels.extend(AnomalyDetector.transform_labels(labels_batch))\n",
    "    all_distances.extend(AnomalyDetector.transform_distances(distances_batch))\n",
    "\n",
    "all_labels = np.array(all_labels)\n",
    "all_distances = np.array(all_distances)\n",
    "\n",
    "evaluator_http_agglomerative = AnomalyDetectorEvaluator(http_eval, all_labels, all_distances)\n",
    "# accuracy_http_agglomerative = evaluator_http_agglomerative.calculate_accuracy()\n",
    "# recall_http_agglomerative = evaluator_http_agglomerative.calculate_recall()\n",
    "# precision_http_agglomerative = evaluator_http_agglomerative.calculate_precision()\n",
    "# auc_pr_http_agglomerative = evaluator_http_agglomerative.calculate_auc_pr()\n",
    "\n",
    "# accuracy_http_agglomerative, recall_http_agglomerative, precision_http_agglomerative, auc_pr_http_agglomerative"
   ]
  },
  {
   "cell_type": "code",
   "execution_count": null,
   "metadata": {},
   "outputs": [],
   "source": [
    "evaluator_http_agglomerative.calculate_all_metrics()"
   ]
  },
  {
   "cell_type": "code",
   "execution_count": null,
   "metadata": {},
   "outputs": [],
   "source": [
    "batch_size = 20000\n",
    "\n",
    "all_labels = []\n",
    "all_distances = []\n",
    "\n",
    "for start in range(0, len(http_data), batch_size):\n",
    "    end = start + batch_size\n",
    "    batch_data = http_data[start:end]\n",
    "\n",
    "    agglomerative = AnomalyDetector(model=\"agglomerative\", metric=\"manhattan\", n_clusters=2)\n",
    "    labels_batch, distances_batch = agglomerative.fit_predict(data=batch_data)\n",
    "\n",
    "    all_labels.extend(AnomalyDetector.transform_labels(labels_batch))\n",
    "    all_distances.extend(AnomalyDetector.transform_distances(distances_batch))\n",
    "\n",
    "all_labels = np.array(all_labels)\n",
    "all_distances = np.array(all_distances)\n",
    "\n",
    "evaluator_http_agglomerative = AnomalyDetectorEvaluator(http_eval, all_labels, all_distances)\n",
    "# accuracy_http_agglomerative = evaluator_http_agglomerative.calculate_accuracy()\n",
    "# recall_http_agglomerative = evaluator_http_agglomerative.calculate_recall()\n",
    "# precision_http_agglomerative = evaluator_http_agglomerative.calculate_precision()\n",
    "# auc_pr_http_agglomerative = evaluator_http_agglomerative.calculate_auc_pr()\n",
    "\n",
    "# accuracy_http_agglomerative, recall_http_agglomerative, precision_http_agglomerative, auc_pr_http_agglomerative"
   ]
  },
  {
   "cell_type": "code",
   "execution_count": null,
   "metadata": {},
   "outputs": [],
   "source": [
    "evaluator_http_agglomerative.calculate_all_metrics()"
   ]
  },
  {
   "cell_type": "code",
   "execution_count": null,
   "metadata": {
    "ExecuteTime": {
     "start_time": "2024-06-08T13:11:15.986241Z"
    }
   },
   "outputs": [],
   "source": [
    "all_labels"
   ]
  },
  {
   "cell_type": "code",
   "execution_count": null,
   "metadata": {
    "ExecuteTime": {
     "end_time": "2024-06-12T14:37:58.410030Z",
     "start_time": "2024-06-12T14:37:57.202690Z"
    },
    "collapsed": false
   },
   "outputs": [],
   "source": [
    "import numpy as np\n",
    "import pandas as pd\n",
    "from sklearn.metrics import accuracy_score, recall_score, precision_score\n",
    "\n",
    "import data_prep\n",
    "from ad_one_class import OneClassAnnomalyDetector\n",
    "from anomaly_detector import AnomalyDetector\n",
    "from metrics import AnomalyDetectorEvaluator"
   ]
  },
  {
   "cell_type": "code",
   "execution_count": null,
   "metadata": {
    "ExecuteTime": {
     "end_time": "2024-06-12T14:38:00.538237Z",
     "start_time": "2024-06-12T14:38:00.384619Z"
    },
    "collapsed": false
   },
   "outputs": [],
   "source": [
    "X = pd.read_csv(\"shuttle_train.csv\",header=0).values\n",
    "y = pd.read_csv(\"shuttle_eval.csv\",header=0).values\n",
    "\n",
    "Xtrain, ytrain, Xtest, ytest = data_prep.split_binary_dataset(X, y)\n",
    "\n",
    "#fit isolation forest\n",
    "print(\"Fitting Isolation Forest...\")\n",
    "#print shape of Xtrain with name formated\n",
    "print(f\"Shape of Xtrain: {Xtrain.shape}\")\n",
    "isolation_forest = OneClassAnnomalyDetector(model_name = \"isolationforest\")\n",
    "isolation_forest.fit(Xtrain)\n",
    "print(\"Fitted. Predicting...\")\n",
    "ypred_forest = isolation_forest.predict(Xtest)\n",
    "\n"
   ]
  },
  {
   "cell_type": "code",
   "execution_count": null,
   "metadata": {
    "ExecuteTime": {
     "end_time": "2024-06-12T14:38:49.201773Z",
     "start_time": "2024-06-12T14:38:49.180739Z"
    },
    "collapsed": false
   },
   "outputs": [],
   "source": [
    "AnomalyDetectorEvaluator(ytest, ypred_forest, ypred_forest).calculate_all_metrics()"
   ]
  },
  {
   "cell_type": "code",
   "execution_count": null,
   "metadata": {
    "ExecuteTime": {
     "end_time": "2024-06-12T14:57:03.960644Z",
     "start_time": "2024-06-12T14:56:29.972500Z"
    },
    "collapsed": false
   },
   "outputs": [],
   "source": [
    "\n",
    "\n",
    "#fit isolation forest\n",
    "print(\"Fitting SVM...\")\n",
    "#print shape of Xtrain with name formated\n",
    "print(f\"Shape of Xtrain: {Xtrain.shape}\")\n",
    "svm = OneClassAnnomalyDetector(model_name = \"oneclasssvm\")\n",
    "svm.fit(Xtrain)\n",
    "print(\"Fitted. Predicting...\")\n",
    "ypred_svm = svm.predict(Xtest)"
   ]
  },
  {
   "cell_type": "code",
   "execution_count": null,
   "metadata": {
    "ExecuteTime": {
     "end_time": "2024-06-12T15:00:32.036606Z",
     "start_time": "2024-06-12T15:00:32.030265Z"
    },
    "collapsed": false
   },
   "outputs": [],
   "source": [
    "print(\"Outliers predicted fraction:\")\n",
    "print(sum(ypred_svm) / len(ypred_svm))\n",
    "print(\"Outliers test fraction:\")\n",
    "print(sum(ytest) / len(ytest))"
   ]
  },
  {
   "cell_type": "code",
   "execution_count": null,
   "metadata": {
    "ExecuteTime": {
     "end_time": "2024-06-12T14:58:10.109152Z",
     "start_time": "2024-06-12T14:58:10.083897Z"
    },
    "collapsed": false
   },
   "outputs": [],
   "source": [
    "AnomalyDetectorEvaluator(ytest, ypred_svm, ypred_svm).calculate_all_metrics()"
   ]
  }
 ],
 "metadata": {
  "kernelspec": {
   "display_name": "Python 3",
   "language": "python",
   "name": "python3"
  },
  "language_info": {
   "codemirror_mode": {
    "name": "ipython",
    "version": 3
   },
   "file_extension": ".py",
   "mimetype": "text/x-python",
   "name": "python",
   "nbconvert_exporter": "python",
   "pygments_lexer": "ipython3",
   "version": "3.10.12"
  }
 },
 "nbformat": 4,
 "nbformat_minor": 2
}
