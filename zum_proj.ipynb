{
 "cells": [
  {
   "cell_type": "code",
   "execution_count": 1,
   "metadata": {
    "ExecuteTime": {
     "end_time": "2024-06-09T13:39:17.284346Z",
     "start_time": "2024-06-09T13:39:13.041770Z"
    }
   },
   "outputs": [],
   "source": [
    "import pandas as pd\n",
    "import numpy as np\n",
    "import scipy.io\n",
    "from anomaly_detector import AnomalyDetector\n",
    "from metrics import AnomalyDetectorEvaluator"
   ]
  },
  {
   "cell_type": "code",
   "execution_count": 2,
   "metadata": {
    "ExecuteTime": {
     "end_time": "2024-06-09T13:39:17.437551Z",
     "start_time": "2024-06-09T13:39:17.284570Z"
    }
   },
   "outputs": [],
   "source": [
    "shuttle = scipy.io.loadmat(\"shuttle.mat\")\n",
    "shuttle_data = pd.DataFrame(shuttle['X'])\n",
    "shuttle_eval = pd.DataFrame(shuttle['y'])\n",
    "http_data = pd.read_csv(\"http_train.csv\")\n",
    "http_eval = pd.read_csv(\"http_eval.csv\")"
   ]
  },
  {
   "cell_type": "code",
   "execution_count": 3,
   "metadata": {
    "ExecuteTime": {
     "end_time": "2024-06-09T13:39:17.450225Z",
     "start_time": "2024-06-09T13:39:17.438444Z"
    }
   },
   "outputs": [],
   "source": [
    "shuttle_eval = np.array(shuttle_eval).flatten()\n",
    "http_eval = np.array(http_eval).flatten()"
   ]
  },
  {
   "cell_type": "code",
   "execution_count": 27,
   "metadata": {
    "ExecuteTime": {
     "end_time": "2024-06-08T13:11:15.801308Z",
     "start_time": "2024-06-08T13:11:15.799001Z"
    }
   },
   "outputs": [],
   "source": [
    "#shuttle_data"
   ]
  },
  {
   "cell_type": "code",
   "execution_count": 4,
   "metadata": {
    "ExecuteTime": {
     "end_time": "2024-06-09T13:39:20.306717Z",
     "start_time": "2024-06-09T13:39:20.003546Z"
    }
   },
   "outputs": [
    {
     "data": {
      "text/plain": "(0.786830152555146,\n 0.01708914839077186,\n 0.008480565371024734,\n 0.8408880005041621)"
     },
     "execution_count": 4,
     "metadata": {},
     "output_type": "execute_result"
    }
   ],
   "source": [
    "kmeans = AnomalyDetector(model=\"kmeans\", n_clusters=2)\n",
    "labels_shuttle_kmeans, distances_shuttle_kmeans = kmeans.fit_predict(data=shuttle_data)\n",
    "labels_shuttle_kmeans = AnomalyDetector.transform_labels(labels_shuttle_kmeans)\n",
    "distances_shuttle_kmeans = AnomalyDetector.transform_distances(distances_shuttle_kmeans)\n",
    "evaluator_shuttle_kmeans = AnomalyDetectorEvaluator(shuttle_eval, labels_shuttle_kmeans, distances_shuttle_kmeans)"
   ]
  },
  {
   "cell_type": "code",
   "execution_count": 5,
   "outputs": [
    {
     "data": {
      "text/plain": "{'accuracy': 0.786830152555146,\n 'outliers_accuracy': 0.01708914839077186,\n 'precision': 0.008480565371024734,\n 'recall': 0.01708914839077186,\n 'precision_recall_curve': (array([0.0715115 , 0.97637475, 1.        ]),\n  array([1.        , 0.68271148, 0.        ])),\n 'auc_pr': 0.8408880005041621,\n 'confusion_matrix_percentage':                           Positive Prediction        Negative Prediction\n 0  Positive Class    True Positive (TP) 0.12%  False Negative (FN) 7.03%\n 1  Negative Class  False Positive (FP) 14.29%  True Negative (TN) 78.56%,\n 'imbalanced_metrics':                Metric   Value\n 0     Positive Recall   1.71%\n 1     Negative Recall  84.61%\n 2  Positive Precision   0.85%\n 3  Negative Precision  91.79%}"
     },
     "execution_count": 5,
     "metadata": {},
     "output_type": "execute_result"
    }
   ],
   "source": [
    "evaluator_shuttle_kmeans.calculate_all_metrics()"
   ],
   "metadata": {
    "collapsed": false,
    "ExecuteTime": {
     "end_time": "2024-06-09T13:39:25.089852Z",
     "start_time": "2024-06-09T13:39:25.042522Z"
    }
   }
  },
  {
   "cell_type": "code",
   "execution_count": 6,
   "metadata": {
    "ExecuteTime": {
     "end_time": "2024-06-08T13:38:34.650001Z",
     "start_time": "2024-06-08T13:38:34.550045Z"
    }
   },
   "outputs": [],
   "source": [
    "labels_shuttle_kmeans, distances_shuttle_kmeans = kmeans.fit_predict(data=shuttle_data)"
   ]
  },
  {
   "cell_type": "code",
   "execution_count": 7,
   "metadata": {
    "ExecuteTime": {
     "end_time": "2024-06-08T13:39:00.160101Z",
     "start_time": "2024-06-08T13:38:43.169114Z"
    }
   },
   "outputs": [
    {
     "data": {
      "text/plain": "(0.9939711183982728,\n 0.9584164055824551,\n 0.957325746799431,\n 0.19496838432501365)"
     },
     "execution_count": 7,
     "metadata": {},
     "output_type": "execute_result"
    }
   ],
   "source": [
    "dbscan = AnomalyDetector(model=\"dbscan\", )\n",
    "labels_shuttle_dbscan, distances_shuttle_dbscan = dbscan.fit_predict(data=shuttle_data)\n",
    "labels_shuttle_dbscan = AnomalyDetector.transform_labels(labels_shuttle_dbscan)\n",
    "distances_shuttle_dbscan = AnomalyDetector.transform_distances(distances_shuttle_dbscan)\n",
    "evaluator_shuttle_dbscan = AnomalyDetectorEvaluator(shuttle_eval, labels_shuttle_dbscan, distances_shuttle_dbscan)\n",
    "accuracy_shuttle_dbscan = evaluator_shuttle_dbscan.calculate_accuracy()\n",
    "recall_shuttle_dbscan = evaluator_shuttle_dbscan.calculate_recall()\n",
    "precision_shuttle_dbscan = evaluator_shuttle_dbscan.calculate_precision()\n",
    "auc_pr_shuttle_dbscan = evaluator_shuttle_dbscan.calculate_auc_pr()\n",
    "accuracy_shuttle_dbscan, recall_shuttle_dbscan, precision_shuttle_dbscan, auc_pr_shuttle_dbscan"
   ]
  },
  {
   "cell_type": "code",
   "execution_count": null,
   "metadata": {
    "ExecuteTime": {
     "start_time": "2024-06-08T13:11:15.965259Z"
    }
   },
   "outputs": [],
   "source": [
    "shuttle_data.shape"
   ]
  },
  {
   "cell_type": "code",
   "execution_count": null,
   "metadata": {
    "ExecuteTime": {
     "start_time": "2024-06-08T13:11:15.967840Z"
    }
   },
   "outputs": [],
   "source": [
    "\n",
    "batch_size = 10000\n",
    "\n",
    "all_labels = []\n",
    "all_distances = []\n",
    "\n",
    "for start in range(0, len(shuttle_data), batch_size):\n",
    "    end = start + batch_size\n",
    "    batch_data = shuttle_data[start:end]\n",
    "\n",
    "    agglomerative = AnomalyDetector(model=\"agglomerative\", n_clusters=2)\n",
    "    labels_batch, distances_batch = agglomerative.fit_predict(data=batch_data)\n",
    "\n",
    "    all_labels.extend(AnomalyDetector.transform_labels(labels_batch))\n",
    "    all_distances.extend(AnomalyDetector.transform_distances(distances_batch))\n",
    "\n",
    "all_labels = np.array(all_labels)\n",
    "all_distances = np.array(all_distances)\n",
    "\n",
    "evaluator_shuttle_agglomerative = AnomalyDetectorEvaluator(shuttle_eval, all_labels, all_distances)\n",
    "accuracy_shuttle_agglomerative = evaluator_shuttle_agglomerative.calculate_accuracy()\n",
    "recall_shuttle_agglomerative = evaluator_shuttle_agglomerative.calculate_recall()\n",
    "precision_shuttle_agglomerative = evaluator_shuttle_agglomerative.calculate_precision()\n",
    "auc_pr_shuttle_agglomerative = evaluator_shuttle_agglomerative.calculate_auc_pr()\n",
    "\n",
    "accuracy_shuttle_agglomerative, recall_shuttle_agglomerative, precision_shuttle_agglomerative, auc_pr_shuttle_agglomerative"
   ]
  },
  {
   "cell_type": "code",
   "execution_count": null,
   "metadata": {
    "ExecuteTime": {
     "end_time": "2024-06-08T13:11:15.976796Z",
     "start_time": "2024-06-08T13:11:15.970440Z"
    }
   },
   "outputs": [],
   "source": [
    "http_data.shape"
   ]
  },
  {
   "cell_type": "code",
   "execution_count": null,
   "metadata": {
    "ExecuteTime": {
     "start_time": "2024-06-08T13:11:15.974047Z"
    }
   },
   "outputs": [],
   "source": [
    "agglomerative = AnomalyDetector(model=\"agglomerative\", n_clusters=2)\n",
    "labels_shuttle_agglomerative, distances_shuttle_agglomerative = agglomerative.fit_predict(data=shuttle_data)\n",
    "labels_shuttle_agglomerative = AnomalyDetector.transform_labels(labels_shuttle_agglomerative)\n",
    "distances_shuttle_agglomerative = AnomalyDetector.transform_distances(distances_shuttle_agglomerative)\n",
    "evaluator_shuttle_agglomerative = AnomalyDetectorEvaluator(shuttle_eval, labels_shuttle_agglomerative, distances_shuttle_agglomerative)\n",
    "accuracy_shuttle_agglomerative = evaluator_shuttle_agglomerative.calculate_accuracy()\n",
    "recall_shuttle_agglomerative = evaluator_shuttle_agglomerative.calculate_recall()\n",
    "precision_shuttle_agglomerative = evaluator_shuttle_agglomerative.calculate_precision()\n",
    "auc_pr_shuttle_agglomerative = evaluator_shuttle_agglomerative.calculate_auc_pr()\n",
    "accuracy_shuttle_agglomerative, recall_shuttle_agglomerative, precision_shuttle_agglomerative, auc_pr_shuttle_agglomerative"
   ]
  },
  {
   "cell_type": "code",
   "execution_count": null,
   "metadata": {
    "ExecuteTime": {
     "start_time": "2024-06-08T13:11:15.976635Z"
    }
   },
   "outputs": [],
   "source": [
    "kmeans = AnomalyDetector(model=\"kmeans\", n_clusters=2)\n",
    "labels_http_kmeans, distances_http_kmeans = kmeans.fit_predict(data=http_data)\n",
    "labels_http_kmeans = AnomalyDetector.transform_labels(labels_http_kmeans)\n",
    "distances_http_kmeans = AnomalyDetector.transform_distances(distances_http_kmeans)\n",
    "evaluator_http_kmeans = AnomalyDetectorEvaluator(http_eval, labels_http_kmeans, distances_http_kmeans)\n",
    "accuracy_http_kmeans = evaluator_http_kmeans.calculate_accuracy()\n",
    "recall_http_kmeans = evaluator_http_kmeans.calculate_recall()\n",
    "precision_http_kmeans = evaluator_http_kmeans.calculate_precision()\n",
    "auc_pr_http_kmeans = evaluator_http_kmeans.calculate_auc_pr()\n",
    "accuracy_http_kmeans, recall_http_kmeans, precision_http_kmeans, auc_pr_http_kmeans"
   ]
  },
  {
   "cell_type": "code",
   "execution_count": null,
   "metadata": {
    "ExecuteTime": {
     "start_time": "2024-06-08T13:11:15.978751Z"
    }
   },
   "outputs": [],
   "source": [
    "%load_ext memory_profiler"
   ]
  },
  {
   "cell_type": "code",
   "execution_count": null,
   "metadata": {
    "ExecuteTime": {
     "start_time": "2024-06-08T13:11:15.980824Z"
    }
   },
   "outputs": [],
   "source": [
    "dbscan = AnomalyDetector(model=\"dbscan\", )\n",
    "labels_http_dbscan, distances_http_dbscan = dbscan.fit_predict(data=http_data)\n",
    "labels_http_kmeans = AnomalyDetector.transform_labels(labels_http_kmeans)\n",
    "distances_http_kmeans = AnomalyDetector.transform_distances(distances_http_kmeans)\n",
    "evaluator_http_dbscan = AnomalyDetectorEvaluator(http_eval, labels_http_dbscan, distances_http_dbscan)\n",
    "accuracy_http_dbscan = evaluator_http_dbscan.calculate_accuracy()\n",
    "recall_http_dbscan = evaluator_http_dbscan.calculate_recall()\n",
    "precision_http_dbscan = evaluator_http_dbscan.calculate_precision()\n",
    "auc_pr_http_dbscan = evaluator_http_dbscan.calculate_auc_pr()"
   ]
  },
  {
   "cell_type": "code",
   "execution_count": null,
   "metadata": {
    "ExecuteTime": {
     "start_time": "2024-06-08T13:11:15.983450Z"
    }
   },
   "outputs": [],
   "source": [
    "agglomerative = AnomalyDetector(model=\"agglomerative\", n_clusters=2)\n",
    "labels_http_agglomerative, distances_http_agglomerative = agglomerative.fit_predict(data=http_data)\n",
    "evaluator_http_agglomerative = AnomalyDetectorEvaluator(http_eval, labels_http_agglomerative, distances_http_agglomerative)\n",
    "accuracy_http_agglomerative = evaluator_http_agglomerative.calculate_accuracy()\n",
    "recall_http_agglomerative = evaluator_http_agglomerative.calculate_recall()\n",
    "precision_http_agglomerative = evaluator_http_agglomerative.calculate_precision()\n",
    "auc_pr_http_agglomerative = evaluator_http_agglomerative.calculate_auc_pr()"
   ]
  },
  {
   "cell_type": "code",
   "execution_count": null,
   "metadata": {
    "ExecuteTime": {
     "start_time": "2024-06-08T13:11:15.984584Z"
    }
   },
   "outputs": [],
   "source": [
    "batch_size = 20000\n",
    "\n",
    "all_labels = []\n",
    "all_distances = []\n",
    "\n",
    "for start in range(0, len(http_data), batch_size):\n",
    "    end = start + batch_size\n",
    "    batch_data = http_data[start:end]\n",
    "\n",
    "    agglomerative = AnomalyDetector(model=\"agglomerative\", n_clusters=2)\n",
    "    labels_batch, distances_batch = agglomerative.fit_predict(data=batch_data)\n",
    "\n",
    "    all_labels.extend(AnomalyDetector.transform_labels(labels_batch))\n",
    "    all_distances.extend(AnomalyDetector.transform_distances(distances_batch))\n",
    "\n",
    "all_labels = np.array(all_labels)\n",
    "all_distances = np.array(all_distances)\n",
    "\n",
    "evaluator_http_agglomerative = AnomalyDetectorEvaluator(http_eval, all_labels, all_distances)\n",
    "accuracy_http_agglomerative = evaluator_http_agglomerative.calculate_accuracy()\n",
    "recall_http_agglomerative = evaluator_http_agglomerative.calculate_recall()\n",
    "precision_http_agglomerative = evaluator_http_agglomerative.calculate_precision()\n",
    "auc_pr_http_agglomerative = evaluator_http_agglomerative.calculate_auc_pr()\n",
    "\n",
    "accuracy_http_agglomerative, recall_http_agglomerative, precision_http_agglomerative, auc_pr_http_agglomerative"
   ]
  },
  {
   "cell_type": "code",
   "execution_count": null,
   "metadata": {
    "ExecuteTime": {
     "start_time": "2024-06-08T13:11:15.986241Z"
    }
   },
   "outputs": [],
   "source": [
    "all_labels"
   ]
  }
 ],
 "metadata": {
  "kernelspec": {
   "display_name": "Python 3",
   "language": "python",
   "name": "python3"
  },
  "language_info": {
   "codemirror_mode": {
    "name": "ipython",
    "version": 3
   },
   "file_extension": ".py",
   "mimetype": "text/x-python",
   "name": "python",
   "nbconvert_exporter": "python",
   "pygments_lexer": "ipython3",
   "version": "3.10.12"
  }
 },
 "nbformat": 4,
 "nbformat_minor": 2
}
