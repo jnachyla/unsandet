{
 "cells": [
  {
   "cell_type": "code",
   "execution_count": 1,
   "metadata": {},
   "outputs": [],
   "source": [
    "import pandas as pd\n",
    "import numpy as np\n",
    "import scipy.io\n",
    "from anomaly_detector import AnomalyDetector\n",
    "from metrics import AnomalyDetectorEvaluator"
   ]
  },
  {
   "cell_type": "code",
   "execution_count": 2,
   "metadata": {},
   "outputs": [],
   "source": [
    "shuttle = scipy.io.loadmat(\"shuttle.mat\")\n",
    "shuttle_data = pd.DataFrame(shuttle['X'])\n",
    "shuttle_eval = pd.DataFrame(shuttle['y'])\n",
    "http_data = pd.read_csv(\"http_train.csv\")\n",
    "http_eval = pd.read_csv(\"http_eval.csv\")"
   ]
  },
  {
   "cell_type": "code",
   "execution_count": 3,
   "metadata": {},
   "outputs": [],
   "source": [
    "shuttle_eval = np.array(shuttle_eval).flatten()\n",
    "http_eval = np.array(http_eval).flatten()"
   ]
  },
  {
   "cell_type": "code",
   "execution_count": 4,
   "metadata": {},
   "outputs": [
    {
     "data": {
      "text/html": [
       "<div>\n",
       "<style scoped>\n",
       "    .dataframe tbody tr th:only-of-type {\n",
       "        vertical-align: middle;\n",
       "    }\n",
       "\n",
       "    .dataframe tbody tr th {\n",
       "        vertical-align: top;\n",
       "    }\n",
       "\n",
       "    .dataframe thead th {\n",
       "        text-align: right;\n",
       "    }\n",
       "</style>\n",
       "<table border=\"1\" class=\"dataframe\">\n",
       "  <thead>\n",
       "    <tr style=\"text-align: right;\">\n",
       "      <th></th>\n",
       "      <th>0</th>\n",
       "      <th>1</th>\n",
       "      <th>2</th>\n",
       "      <th>3</th>\n",
       "      <th>4</th>\n",
       "      <th>5</th>\n",
       "      <th>6</th>\n",
       "      <th>7</th>\n",
       "      <th>8</th>\n",
       "    </tr>\n",
       "  </thead>\n",
       "  <tbody>\n",
       "    <tr>\n",
       "      <th>0</th>\n",
       "      <td>50</td>\n",
       "      <td>21</td>\n",
       "      <td>77</td>\n",
       "      <td>0</td>\n",
       "      <td>28</td>\n",
       "      <td>0</td>\n",
       "      <td>27</td>\n",
       "      <td>48</td>\n",
       "      <td>22</td>\n",
       "    </tr>\n",
       "    <tr>\n",
       "      <th>1</th>\n",
       "      <td>53</td>\n",
       "      <td>0</td>\n",
       "      <td>82</td>\n",
       "      <td>0</td>\n",
       "      <td>52</td>\n",
       "      <td>-5</td>\n",
       "      <td>29</td>\n",
       "      <td>30</td>\n",
       "      <td>2</td>\n",
       "    </tr>\n",
       "    <tr>\n",
       "      <th>2</th>\n",
       "      <td>37</td>\n",
       "      <td>0</td>\n",
       "      <td>76</td>\n",
       "      <td>0</td>\n",
       "      <td>28</td>\n",
       "      <td>18</td>\n",
       "      <td>40</td>\n",
       "      <td>48</td>\n",
       "      <td>8</td>\n",
       "    </tr>\n",
       "    <tr>\n",
       "      <th>3</th>\n",
       "      <td>37</td>\n",
       "      <td>0</td>\n",
       "      <td>79</td>\n",
       "      <td>0</td>\n",
       "      <td>34</td>\n",
       "      <td>-26</td>\n",
       "      <td>43</td>\n",
       "      <td>46</td>\n",
       "      <td>2</td>\n",
       "    </tr>\n",
       "    <tr>\n",
       "      <th>4</th>\n",
       "      <td>85</td>\n",
       "      <td>0</td>\n",
       "      <td>88</td>\n",
       "      <td>-4</td>\n",
       "      <td>6</td>\n",
       "      <td>1</td>\n",
       "      <td>3</td>\n",
       "      <td>83</td>\n",
       "      <td>80</td>\n",
       "    </tr>\n",
       "    <tr>\n",
       "      <th>...</th>\n",
       "      <td>...</td>\n",
       "      <td>...</td>\n",
       "      <td>...</td>\n",
       "      <td>...</td>\n",
       "      <td>...</td>\n",
       "      <td>...</td>\n",
       "      <td>...</td>\n",
       "      <td>...</td>\n",
       "      <td>...</td>\n",
       "    </tr>\n",
       "    <tr>\n",
       "      <th>49092</th>\n",
       "      <td>39</td>\n",
       "      <td>-2</td>\n",
       "      <td>80</td>\n",
       "      <td>-4</td>\n",
       "      <td>38</td>\n",
       "      <td>0</td>\n",
       "      <td>41</td>\n",
       "      <td>41</td>\n",
       "      <td>0</td>\n",
       "    </tr>\n",
       "    <tr>\n",
       "      <th>49093</th>\n",
       "      <td>43</td>\n",
       "      <td>0</td>\n",
       "      <td>81</td>\n",
       "      <td>1</td>\n",
       "      <td>42</td>\n",
       "      <td>-9</td>\n",
       "      <td>37</td>\n",
       "      <td>39</td>\n",
       "      <td>2</td>\n",
       "    </tr>\n",
       "    <tr>\n",
       "      <th>49094</th>\n",
       "      <td>49</td>\n",
       "      <td>0</td>\n",
       "      <td>87</td>\n",
       "      <td>0</td>\n",
       "      <td>46</td>\n",
       "      <td>-12</td>\n",
       "      <td>38</td>\n",
       "      <td>41</td>\n",
       "      <td>2</td>\n",
       "    </tr>\n",
       "    <tr>\n",
       "      <th>49095</th>\n",
       "      <td>80</td>\n",
       "      <td>0</td>\n",
       "      <td>84</td>\n",
       "      <td>0</td>\n",
       "      <td>-36</td>\n",
       "      <td>-29</td>\n",
       "      <td>4</td>\n",
       "      <td>120</td>\n",
       "      <td>116</td>\n",
       "    </tr>\n",
       "    <tr>\n",
       "      <th>49096</th>\n",
       "      <td>37</td>\n",
       "      <td>0</td>\n",
       "      <td>103</td>\n",
       "      <td>0</td>\n",
       "      <td>18</td>\n",
       "      <td>-16</td>\n",
       "      <td>66</td>\n",
       "      <td>85</td>\n",
       "      <td>20</td>\n",
       "    </tr>\n",
       "  </tbody>\n",
       "</table>\n",
       "<p>49097 rows × 9 columns</p>\n",
       "</div>"
      ],
      "text/plain": [
       "        0   1    2  3   4   5   6    7    8\n",
       "0      50  21   77  0  28   0  27   48   22\n",
       "1      53   0   82  0  52  -5  29   30    2\n",
       "2      37   0   76  0  28  18  40   48    8\n",
       "3      37   0   79  0  34 -26  43   46    2\n",
       "4      85   0   88 -4   6   1   3   83   80\n",
       "...    ..  ..  ... ..  ..  ..  ..  ...  ...\n",
       "49092  39  -2   80 -4  38   0  41   41    0\n",
       "49093  43   0   81  1  42  -9  37   39    2\n",
       "49094  49   0   87  0  46 -12  38   41    2\n",
       "49095  80   0   84  0 -36 -29   4  120  116\n",
       "49096  37   0  103  0  18 -16  66   85   20\n",
       "\n",
       "[49097 rows x 9 columns]"
      ]
     },
     "execution_count": 4,
     "metadata": {},
     "output_type": "execute_result"
    }
   ],
   "source": [
    "shuttle_data"
   ]
  },
  {
   "cell_type": "code",
   "execution_count": 5,
   "metadata": {},
   "outputs": [
    {
     "name": "stderr",
     "output_type": "stream",
     "text": [
      "/home/jbudzins/.local/lib/python3.10/site-packages/sklearn/cluster/_kmeans.py:870: FutureWarning: The default value of `n_init` will change from 10 to 'auto' in 1.4. Set the value of `n_init` explicitly to suppress the warning\n",
      "  warnings.warn(\n"
     ]
    },
    {
     "data": {
      "text/plain": [
       "(0.9960893740961769,\n",
       " 0.9461691825690687,\n",
       " 0.9990977443609023,\n",
       " 0.42270291358630463)"
      ]
     },
     "execution_count": 5,
     "metadata": {},
     "output_type": "execute_result"
    }
   ],
   "source": [
    "kmeans = AnomalyDetector(model=\"kmeans\", n_clusters=2)\n",
    "labels_shuttle_kmeans, distances_shuttle_kmeans = kmeans.fit_predict(data=shuttle_data)\n",
    "labels_shuttle_kmeans = AnomalyDetector.transform_labels(labels_shuttle_kmeans)\n",
    "distances_shuttle_kmeans = AnomalyDetector.transform_distances(distances_shuttle_kmeans)\n",
    "evaluator_shuttle_kmeans = AnomalyDetectorEvaluator(shuttle_eval, labels_shuttle_kmeans, distances_shuttle_kmeans)\n",
    "accuracy_shuttle_kmeans = evaluator_shuttle_kmeans.calculate_accuracy()\n",
    "recall_shuttle_kmeans = evaluator_shuttle_kmeans.calculate_recall()\n",
    "precision_shuttle_kmeans = evaluator_shuttle_kmeans.calculate_precision()\n",
    "auc_pr_shuttle_kmeans = evaluator_shuttle_kmeans.calculate_auc_pr()\n",
    "accuracy_shuttle_kmeans, recall_shuttle_kmeans, precision_shuttle_kmeans, auc_pr_shuttle_kmeans"
   ]
  },
  {
   "cell_type": "code",
   "execution_count": null,
   "metadata": {},
   "outputs": [],
   "source": [
    "labels_shuttle_kmeans, distances_shuttle_kmeans = kmeans.fit_predict(data=shuttle_data)"
   ]
  },
  {
   "cell_type": "code",
   "execution_count": 6,
   "metadata": {},
   "outputs": [
    {
     "data": {
      "text/plain": [
       "(0.9939711183982728,\n",
       " 0.9584164055824551,\n",
       " 0.957325746799431,\n",
       " 0.19496838432501365)"
      ]
     },
     "execution_count": 6,
     "metadata": {},
     "output_type": "execute_result"
    }
   ],
   "source": [
    "dbscan = AnomalyDetector(model=\"dbscan\", )\n",
    "labels_shuttle_dbscan, distances_shuttle_dbscan = dbscan.fit_predict(data=shuttle_data)\n",
    "labels_shuttle_dbscan = AnomalyDetector.transform_labels(labels_shuttle_dbscan)\n",
    "distances_shuttle_dbscan = AnomalyDetector.transform_distances(distances_shuttle_dbscan)\n",
    "evaluator_shuttle_dbscan = AnomalyDetectorEvaluator(shuttle_eval, labels_shuttle_dbscan, distances_shuttle_dbscan)\n",
    "accuracy_shuttle_dbscan = evaluator_shuttle_dbscan.calculate_accuracy()\n",
    "recall_shuttle_dbscan = evaluator_shuttle_dbscan.calculate_recall()\n",
    "precision_shuttle_dbscan = evaluator_shuttle_dbscan.calculate_precision()\n",
    "auc_pr_shuttle_dbscan = evaluator_shuttle_dbscan.calculate_auc_pr()\n",
    "accuracy_shuttle_dbscan, recall_shuttle_dbscan, precision_shuttle_dbscan, auc_pr_shuttle_dbscan"
   ]
  },
  {
   "cell_type": "code",
   "execution_count": 16,
   "metadata": {},
   "outputs": [
    {
     "data": {
      "text/plain": [
       "(49097, 9)"
      ]
     },
     "execution_count": 16,
     "metadata": {},
     "output_type": "execute_result"
    }
   ],
   "source": [
    "shuttle_data.shape"
   ]
  },
  {
   "cell_type": "code",
   "execution_count": 4,
   "metadata": {},
   "outputs": [
    {
     "data": {
      "text/plain": [
       "(0.9958245921339389,\n",
       " 0.9441754485901452,\n",
       " 0.9972924187725631,\n",
       " 0.46267401827965815)"
      ]
     },
     "execution_count": 4,
     "metadata": {},
     "output_type": "execute_result"
    }
   ],
   "source": [
    "\n",
    "batch_size = 10000\n",
    "\n",
    "all_labels = []\n",
    "all_distances = []\n",
    "\n",
    "for start in range(0, len(shuttle_data), batch_size):\n",
    "    end = start + batch_size\n",
    "    batch_data = shuttle_data[start:end]\n",
    "\n",
    "    agglomerative = AnomalyDetector(model=\"agglomerative\", n_clusters=2)\n",
    "    labels_batch, distances_batch = agglomerative.fit_predict(data=batch_data)\n",
    "\n",
    "    all_labels.extend(AnomalyDetector.transform_labels(labels_batch))\n",
    "    all_distances.extend(AnomalyDetector.transform_distances(distances_batch))\n",
    "\n",
    "all_labels = np.array(all_labels)\n",
    "all_distances = np.array(all_distances)\n",
    "\n",
    "evaluator_shuttle_agglomerative = AnomalyDetectorEvaluator(shuttle_eval, all_labels, all_distances)\n",
    "accuracy_shuttle_agglomerative = evaluator_shuttle_agglomerative.calculate_accuracy()\n",
    "recall_shuttle_agglomerative = evaluator_shuttle_agglomerative.calculate_recall()\n",
    "precision_shuttle_agglomerative = evaluator_shuttle_agglomerative.calculate_precision()\n",
    "auc_pr_shuttle_agglomerative = evaluator_shuttle_agglomerative.calculate_auc_pr()\n",
    "\n",
    "accuracy_shuttle_agglomerative, recall_shuttle_agglomerative, precision_shuttle_agglomerative, auc_pr_shuttle_agglomerative"
   ]
  },
  {
   "cell_type": "code",
   "execution_count": 5,
   "metadata": {},
   "outputs": [
    {
     "data": {
      "text/plain": [
       "(567498, 3)"
      ]
     },
     "execution_count": 5,
     "metadata": {},
     "output_type": "execute_result"
    }
   ],
   "source": [
    "http_data.shape"
   ]
  },
  {
   "cell_type": "code",
   "execution_count": 7,
   "metadata": {},
   "outputs": [
    {
     "ename": "",
     "evalue": "",
     "output_type": "error",
     "traceback": [
      "\u001b[1;31mThe Kernel crashed while executing code in the current cell or a previous cell. \n",
      "\u001b[1;31mPlease review the code in the cell(s) to identify a possible cause of the failure. \n",
      "\u001b[1;31mClick <a href='https://aka.ms/vscodeJupyterKernelCrash'>here</a> for more info. \n",
      "\u001b[1;31mView Jupyter <a href='command:jupyter.viewOutput'>log</a> for further details."
     ]
    }
   ],
   "source": [
    "agglomerative = AnomalyDetector(model=\"agglomerative\", n_clusters=2)\n",
    "labels_shuttle_agglomerative, distances_shuttle_agglomerative = agglomerative.fit_predict(data=shuttle_data)\n",
    "labels_shuttle_agglomerative = AnomalyDetector.transform_labels(labels_shuttle_agglomerative)\n",
    "distances_shuttle_agglomerative = AnomalyDetector.transform_distances(distances_shuttle_agglomerative)\n",
    "evaluator_shuttle_agglomerative = AnomalyDetectorEvaluator(shuttle_eval, labels_shuttle_agglomerative, distances_shuttle_agglomerative)\n",
    "accuracy_shuttle_agglomerative = evaluator_shuttle_agglomerative.calculate_accuracy()\n",
    "recall_shuttle_agglomerative = evaluator_shuttle_agglomerative.calculate_recall()\n",
    "precision_shuttle_agglomerative = evaluator_shuttle_agglomerative.calculate_precision()\n",
    "auc_pr_shuttle_agglomerative = evaluator_shuttle_agglomerative.calculate_auc_pr()\n",
    "accuracy_shuttle_agglomerative, recall_shuttle_agglomerative, precision_shuttle_agglomerative, auc_pr_shuttle_agglomerative"
   ]
  },
  {
   "cell_type": "code",
   "execution_count": null,
   "metadata": {},
   "outputs": [],
   "source": [
    "kmeans = AnomalyDetector(model=\"kmeans\", n_clusters=2)\n",
    "labels_http_kmeans, distances_http_kmeans = kmeans.fit_predict(data=http_data)\n",
    "labels_http_kmeans = AnomalyDetector.transform_labels(labels_http_kmeans)\n",
    "distances_http_kmeans = AnomalyDetector.transform_distances(distances_http_kmeans)\n",
    "evaluator_http_kmeans = AnomalyDetectorEvaluator(http_eval, labels_http_kmeans, distances_http_kmeans)\n",
    "accuracy_http_kmeans = evaluator_http_kmeans.calculate_accuracy()\n",
    "recall_http_kmeans = evaluator_http_kmeans.calculate_recall()\n",
    "precision_http_kmeans = evaluator_http_kmeans.calculate_precision()\n",
    "auc_pr_http_kmeans = evaluator_http_kmeans.calculate_auc_pr()\n",
    "accuracy_http_kmeans, recall_http_kmeans, precision_http_kmeans, auc_pr_http_kmeans"
   ]
  },
  {
   "cell_type": "code",
   "execution_count": null,
   "metadata": {},
   "outputs": [],
   "source": [
    "%load_ext memory_profiler"
   ]
  },
  {
   "cell_type": "code",
   "execution_count": null,
   "metadata": {},
   "outputs": [],
   "source": [
    "dbscan = AnomalyDetector(model=\"dbscan\", )\n",
    "labels_http_dbscan, distances_http_dbscan = dbscan.fit_predict(data=http_data)\n",
    "labels_http_kmeans = AnomalyDetector.transform_labels(labels_http_kmeans)\n",
    "distances_http_kmeans = AnomalyDetector.transform_distances(distances_http_kmeans)\n",
    "evaluator_http_dbscan = AnomalyDetectorEvaluator(http_eval, labels_http_dbscan, distances_http_dbscan)\n",
    "accuracy_http_dbscan = evaluator_http_dbscan.calculate_accuracy()\n",
    "recall_http_dbscan = evaluator_http_dbscan.calculate_recall()\n",
    "precision_http_dbscan = evaluator_http_dbscan.calculate_precision()\n",
    "auc_pr_http_dbscan = evaluator_http_dbscan.calculate_auc_pr()"
   ]
  },
  {
   "cell_type": "code",
   "execution_count": null,
   "metadata": {},
   "outputs": [],
   "source": [
    "agglomerative = AnomalyDetector(model=\"agglomerative\", n_clusters=2)\n",
    "labels_http_agglomerative, distances_http_agglomerative = agglomerative.fit_predict(data=http_data)\n",
    "evaluator_http_agglomerative = AnomalyDetectorEvaluator(http_eval, labels_http_agglomerative, distances_http_agglomerative)\n",
    "accuracy_http_agglomerative = evaluator_http_agglomerative.calculate_accuracy()\n",
    "recall_http_agglomerative = evaluator_http_agglomerative.calculate_recall()\n",
    "precision_http_agglomerative = evaluator_http_agglomerative.calculate_precision()\n",
    "auc_pr_http_agglomerative = evaluator_http_agglomerative.calculate_auc_pr()"
   ]
  },
  {
   "cell_type": "code",
   "execution_count": 6,
   "metadata": {},
   "outputs": [
    {
     "data": {
      "text/plain": [
       "(0.9944687029734025,\n",
       " 0.9063772048846676,\n",
       " 0.4059967585089141,\n",
       " 0.054169680271749406)"
      ]
     },
     "execution_count": 6,
     "metadata": {},
     "output_type": "execute_result"
    }
   ],
   "source": [
    "batch_size = 20000\n",
    "\n",
    "all_labels = []\n",
    "all_distances = []\n",
    "\n",
    "for start in range(0, len(http_data), batch_size):\n",
    "    end = start + batch_size\n",
    "    batch_data = http_data[start:end]\n",
    "\n",
    "    agglomerative = AnomalyDetector(model=\"agglomerative\", n_clusters=2)\n",
    "    labels_batch, distances_batch = agglomerative.fit_predict(data=batch_data)\n",
    "\n",
    "    all_labels.extend(AnomalyDetector.transform_labels(labels_batch))\n",
    "    all_distances.extend(AnomalyDetector.transform_distances(distances_batch))\n",
    "\n",
    "all_labels = np.array(all_labels)\n",
    "all_distances = np.array(all_distances)\n",
    "\n",
    "evaluator_http_agglomerative = AnomalyDetectorEvaluator(http_eval, all_labels, all_distances)\n",
    "accuracy_http_agglomerative = evaluator_http_agglomerative.calculate_accuracy()\n",
    "recall_http_agglomerative = evaluator_http_agglomerative.calculate_recall()\n",
    "precision_http_agglomerative = evaluator_http_agglomerative.calculate_precision()\n",
    "auc_pr_http_agglomerative = evaluator_http_agglomerative.calculate_auc_pr()\n",
    "\n",
    "accuracy_http_agglomerative, recall_http_agglomerative, precision_http_agglomerative, auc_pr_http_agglomerative"
   ]
  },
  {
   "cell_type": "code",
   "execution_count": 5,
   "metadata": {},
   "outputs": [
    {
     "data": {
      "text/plain": [
       "array([0, 0, 0, ..., 0, 0, 0])"
      ]
     },
     "execution_count": 5,
     "metadata": {},
     "output_type": "execute_result"
    }
   ],
   "source": [
    "all_labels"
   ]
  }
 ],
 "metadata": {
  "kernelspec": {
   "display_name": "Python 3",
   "language": "python",
   "name": "python3"
  },
  "language_info": {
   "codemirror_mode": {
    "name": "ipython",
    "version": 3
   },
   "file_extension": ".py",
   "mimetype": "text/x-python",
   "name": "python",
   "nbconvert_exporter": "python",
   "pygments_lexer": "ipython3",
   "version": "3.10.12"
  }
 },
 "nbformat": 4,
 "nbformat_minor": 2
}
